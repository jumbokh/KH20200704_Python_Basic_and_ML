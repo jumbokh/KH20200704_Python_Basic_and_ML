{
 "cells": [
  {
   "cell_type": "markdown",
   "metadata": {},
   "source": [
    "## Day4-3 : 把空氣品質資料寫入DB中(sqlite3)"
   ]
  },
  {
   "cell_type": "code",
   "execution_count": 15,
   "metadata": {},
   "outputs": [],
   "source": [
    "import requests"
   ]
  },
  {
   "cell_type": "code",
   "execution_count": 16,
   "metadata": {},
   "outputs": [],
   "source": [
    "url = 'http://opendata.epa.gov.tw/ws/Data/AQI/?$format=json'"
   ]
  },
  {
   "cell_type": "code",
   "execution_count": 17,
   "metadata": {},
   "outputs": [],
   "source": [
    "r = requests.get(url)"
   ]
  },
  {
   "cell_type": "code",
   "execution_count": 18,
   "metadata": {},
   "outputs": [
    {
     "data": {
      "text/plain": [
       "<Response [200]>"
      ]
     },
     "execution_count": 18,
     "metadata": {},
     "output_type": "execute_result"
    }
   ],
   "source": [
    "r"
   ]
  },
  {
   "cell_type": "code",
   "execution_count": 19,
   "metadata": {},
   "outputs": [],
   "source": [
    "data = r.json()"
   ]
  },
  {
   "cell_type": "code",
   "execution_count": 6,
   "metadata": {},
   "outputs": [
    {
     "data": {
      "text/plain": [
       "81"
      ]
     },
     "execution_count": 6,
     "metadata": {},
     "output_type": "execute_result"
    }
   ],
   "source": [
    "len(data)"
   ]
  },
  {
   "cell_type": "code",
   "execution_count": 7,
   "metadata": {},
   "outputs": [
    {
     "data": {
      "text/plain": [
       "{'SiteName': '臺南(北門)',\n",
       " 'County': '臺南市',\n",
       " 'AQI': '15',\n",
       " 'Pollutant': '',\n",
       " 'Status': '良好',\n",
       " 'SO2': '0.2',\n",
       " 'CO': '0.07',\n",
       " 'CO_8hr': '0.1',\n",
       " 'O3': '20',\n",
       " 'O3_8hr': '16',\n",
       " 'PM10': '4',\n",
       " 'PM2.5': 'ND',\n",
       " 'NO2': '0',\n",
       " 'NOx': '0.3',\n",
       " 'NO': '0.4',\n",
       " 'WindSpeed': '1.8',\n",
       " 'WindDirec': '277',\n",
       " 'PublishTime': '2020-07-25 13:00',\n",
       " 'PM2.5_AVG': '4',\n",
       " 'PM10_AVG': '11',\n",
       " 'SO2_AVG': '0',\n",
       " 'Longitude': '120.124444',\n",
       " 'Latitude': '23.264722',\n",
       " 'SiteId': '310'}"
      ]
     },
     "execution_count": 7,
     "metadata": {},
     "output_type": "execute_result"
    }
   ],
   "source": [
    "data[0]"
   ]
  },
  {
   "cell_type": "markdown",
   "metadata": {},
   "source": [
    "- PublishTime, County, SiteName, AQI, PM10"
   ]
  },
  {
   "cell_type": "code",
   "execution_count": 20,
   "metadata": {},
   "outputs": [
    {
     "name": "stdout",
     "output_type": "stream",
     "text": [
      "[高雄市 復興][2020-07-25 13:00] 16, 8\n",
      "[高雄市 小港][2020-07-25 13:00] 15, 8\n",
      "[高雄市 前鎮][2020-07-25 13:00] 14, 17\n",
      "[高雄市 前金][2020-07-25 13:00] 18, 8\n",
      "[高雄市 左營][2020-07-25 13:00] 15, 7\n",
      "[高雄市 楠梓][2020-07-25 13:00] 14, 7\n",
      "[高雄市 林園][2020-07-25 13:00] 19, 7\n",
      "[高雄市 大寮][2020-07-25 13:00] 18, 18\n",
      "[高雄市 鳳山][2020-07-25 13:00] 17, 11\n",
      "[高雄市 仁武][2020-07-25 13:00] 16, 9\n",
      "[高雄市 橋頭][2020-07-25 13:00] 16, 5\n",
      "[高雄市 美濃][2020-07-25 13:00] 18, 13\n"
     ]
    }
   ],
   "source": [
    "for item in data:\n",
    "    if item['County'] == '高雄市':\n",
    "        print('[%s %s][%s] %s, %s' %(item['County'], item['SiteName'], item['PublishTime'], item['AQI'], item['PM10']) )"
   ]
  },
  {
   "cell_type": "markdown",
   "metadata": {},
   "source": [
    "### 存入DB, 再讀回來"
   ]
  },
  {
   "cell_type": "code",
   "execution_count": 11,
   "metadata": {},
   "outputs": [],
   "source": [
    "import sqlite3\n",
    "import time\n",
    "import json"
   ]
  },
  {
   "cell_type": "code",
   "execution_count": 12,
   "metadata": {},
   "outputs": [],
   "source": [
    "# initial local DB\n",
    "# PublishTime, County, SiteName, AQI, PM10\n",
    "aqi_db = 'aqi_db.db'\n",
    "conn = sqlite3.connect(aqi_db)\n",
    "cursor = conn.cursor()\n",
    "cursor.execute('create table IF NOT EXISTS aqi (PublishTime text NOT NULL, County text, SiteName text, AQI int, PM10 int)')\n",
    "cursor.close()\n",
    "conn.commit()\n",
    "conn.close()"
   ]
  },
  {
   "cell_type": "code",
   "execution_count": 13,
   "metadata": {},
   "outputs": [
    {
     "name": "stdout",
     "output_type": "stream",
     "text": [
      "[高雄市 復興][2020-07-25 13:00] 16, 8\n",
      "[高雄市 小港][2020-07-25 13:00] 15, 8\n",
      "[高雄市 前鎮][2020-07-25 13:00] 14, 17\n",
      "[高雄市 前金][2020-07-25 13:00] 18, 8\n",
      "[高雄市 左營][2020-07-25 13:00] 15, 7\n",
      "[高雄市 楠梓][2020-07-25 13:00] 14, 7\n",
      "[高雄市 林園][2020-07-25 13:00] 19, 7\n",
      "[高雄市 大寮][2020-07-25 13:00] 18, 18\n",
      "[高雄市 鳳山][2020-07-25 13:00] 17, 11\n",
      "[高雄市 仁武][2020-07-25 13:00] 16, 9\n",
      "[高雄市 橋頭][2020-07-25 13:00] 16, 5\n",
      "[高雄市 美濃][2020-07-25 13:00] 18, 13\n"
     ]
    }
   ],
   "source": [
    "for item in data:\n",
    "    if item['County'] == '高雄市':\n",
    "        print('[%s %s][%s] %s, %s' %(item['County'], item['SiteName'], item['PublishTime'], item['AQI'], item['PM10']) )\n",
    "        \n",
    "        #- insert into local DB\n",
    "        conn = sqlite3.connect(aqi_db)\n",
    "        cursor = conn.cursor()\n",
    "        cursor.execute(\"insert into aqi (PublishTime, County, SiteName, AQI, PM10) values('%s', '%s', '%s', '%s', '%s')\" \n",
    "                       %(item['PublishTime'], item['County'], item['SiteName'], item['AQI'], item['PM10']))\n",
    "        cursor.close()\n",
    "        conn.commit()\n",
    "        conn.close()        "
   ]
  },
  {
   "cell_type": "code",
   "execution_count": 14,
   "metadata": {},
   "outputs": [
    {
     "data": {
      "text/plain": [
       "[('2020-07-25 13:00', '高雄市', '復興', 16, 8),\n",
       " ('2020-07-25 13:00', '高雄市', '小港', 15, 8),\n",
       " ('2020-07-25 13:00', '高雄市', '前鎮', 14, 17),\n",
       " ('2020-07-25 13:00', '高雄市', '前金', 18, 8),\n",
       " ('2020-07-25 13:00', '高雄市', '左營', 15, 7),\n",
       " ('2020-07-25 13:00', '高雄市', '楠梓', 14, 7),\n",
       " ('2020-07-25 13:00', '高雄市', '林園', 19, 7),\n",
       " ('2020-07-25 13:00', '高雄市', '大寮', 18, 18),\n",
       " ('2020-07-25 13:00', '高雄市', '鳳山', 17, 11),\n",
       " ('2020-07-25 13:00', '高雄市', '仁武', 16, 9),\n",
       " ('2020-07-25 13:00', '高雄市', '橋頭', 16, 5),\n",
       " ('2020-07-25 13:00', '高雄市', '美濃', 18, 13)]"
      ]
     },
     "execution_count": 14,
     "metadata": {},
     "output_type": "execute_result"
    }
   ],
   "source": [
    "# 取出全部\n",
    "\n",
    "conn = sqlite3.connect(aqi_db)\n",
    "cursor = conn.cursor()\n",
    "# select last 5 rows\n",
    "res = cursor.execute('SELECT * FROM aqi')\n",
    "rows = res.fetchall()\n",
    "\n",
    "data_list = list(rows)\n",
    "data_list"
   ]
  },
  {
   "cell_type": "markdown",
   "metadata": {},
   "source": [
    "- 整合成排程"
   ]
  },
  {
   "cell_type": "code",
   "execution_count": 21,
   "metadata": {},
   "outputs": [
    {
     "name": "stdout",
     "output_type": "stream",
     "text": [
      "[高雄市 復興][2020-07-25 13:00] 16, 8\n",
      "[高雄市 小港][2020-07-25 13:00] 15, 8\n",
      "[高雄市 前鎮][2020-07-25 13:00] 14, 17\n",
      "[高雄市 前金][2020-07-25 13:00] 18, 8\n",
      "[高雄市 左營][2020-07-25 13:00] 15, 7\n",
      "[高雄市 楠梓][2020-07-25 13:00] 14, 7\n",
      "[高雄市 林園][2020-07-25 13:00] 19, 7\n",
      "[高雄市 大寮][2020-07-25 13:00] 18, 18\n",
      "[高雄市 鳳山][2020-07-25 13:00] 17, 11\n",
      "[高雄市 仁武][2020-07-25 13:00] 16, 9\n",
      "[高雄市 橋頭][2020-07-25 13:00] 16, 5\n",
      "[高雄市 美濃][2020-07-25 13:00] 18, 13\n"
     ]
    }
   ],
   "source": [
    "import requests\n",
    "import sqlite3\n",
    "import time\n",
    "import json\n",
    "\n",
    "url = 'http://opendata.epa.gov.tw/ws/Data/AQI/?$format=json'\n",
    "r = requests.get(url)\n",
    "data = r.json()\n",
    "\n",
    "# initial local DB\n",
    "aqi_db = 'aqi_db.db'\n",
    "conn = sqlite3.connect(aqi_db)\n",
    "cursor = conn.cursor()\n",
    "cursor.execute('create table IF NOT EXISTS aqi (PublishTime text NOT NULL, County text, SiteName text, AQI int, PM10 int)')\n",
    "cursor.close()\n",
    "conn.commit()\n",
    "conn.close()\n",
    "\n",
    "for item in data:\n",
    "    if item['County'] == '高雄市':\n",
    "        print('[%s %s][%s] %s, %s' %(item['County'], item['SiteName'], item['PublishTime'], item['AQI'], item['PM10']) )\n",
    "        \n",
    "        #- insert into local DB\n",
    "        conn = sqlite3.connect(aqi_db)\n",
    "        cursor = conn.cursor()\n",
    "        cursor.execute(\"insert into aqi (PublishTime, County, SiteName, AQI, PM10) values('%s', '%s', '%s', '%s', '%s')\" \n",
    "                       %(item['PublishTime'], item['County'], item['SiteName'], item['AQI'], item['PM10']))\n",
    "        cursor.close()\n",
    "        conn.commit()\n",
    "        conn.close()"
   ]
  },
  {
   "cell_type": "code",
   "execution_count": 22,
   "metadata": {},
   "outputs": [
    {
     "data": {
      "text/plain": [
       "[('2020-07-25 13:00', '高雄市', '復興', 16, 8),\n",
       " ('2020-07-25 13:00', '高雄市', '小港', 15, 8),\n",
       " ('2020-07-25 13:00', '高雄市', '前鎮', 14, 17),\n",
       " ('2020-07-25 13:00', '高雄市', '前金', 18, 8),\n",
       " ('2020-07-25 13:00', '高雄市', '左營', 15, 7),\n",
       " ('2020-07-25 13:00', '高雄市', '楠梓', 14, 7),\n",
       " ('2020-07-25 13:00', '高雄市', '林園', 19, 7),\n",
       " ('2020-07-25 13:00', '高雄市', '大寮', 18, 18),\n",
       " ('2020-07-25 13:00', '高雄市', '鳳山', 17, 11),\n",
       " ('2020-07-25 13:00', '高雄市', '仁武', 16, 9),\n",
       " ('2020-07-25 13:00', '高雄市', '橋頭', 16, 5),\n",
       " ('2020-07-25 13:00', '高雄市', '美濃', 18, 13),\n",
       " ('2020-07-25 13:00', '高雄市', '復興', 16, 8),\n",
       " ('2020-07-25 13:00', '高雄市', '小港', 15, 8),\n",
       " ('2020-07-25 13:00', '高雄市', '前鎮', 14, 17),\n",
       " ('2020-07-25 13:00', '高雄市', '前金', 18, 8),\n",
       " ('2020-07-25 13:00', '高雄市', '左營', 15, 7),\n",
       " ('2020-07-25 13:00', '高雄市', '楠梓', 14, 7),\n",
       " ('2020-07-25 13:00', '高雄市', '林園', 19, 7),\n",
       " ('2020-07-25 13:00', '高雄市', '大寮', 18, 18),\n",
       " ('2020-07-25 13:00', '高雄市', '鳳山', 17, 11),\n",
       " ('2020-07-25 13:00', '高雄市', '仁武', 16, 9),\n",
       " ('2020-07-25 13:00', '高雄市', '橋頭', 16, 5),\n",
       " ('2020-07-25 13:00', '高雄市', '美濃', 18, 13)]"
      ]
     },
     "execution_count": 22,
     "metadata": {},
     "output_type": "execute_result"
    }
   ],
   "source": [
    "# 取出全部\n",
    "\n",
    "conn = sqlite3.connect(aqi_db)\n",
    "cursor = conn.cursor()\n",
    "# select last 5 rows\n",
    "res = cursor.execute('SELECT * FROM aqi')\n",
    "rows = res.fetchall()\n",
    "\n",
    "data_list = list(rows)\n",
    "data_list"
   ]
  },
  {
   "cell_type": "markdown",
   "metadata": {},
   "source": [
    "### 練習題: 放到GCE排程，定時10分鐘收集一次資料"
   ]
  },
  {
   "cell_type": "code",
   "execution_count": null,
   "metadata": {},
   "outputs": [],
   "source": [
    "\n",
    "\n"
   ]
  },
  {
   "cell_type": "markdown",
   "metadata": {},
   "source": [
    "### 完成WEB API: 把一天的資料都以JSON的格式回傳\n",
    "\n"
   ]
  },
  {
   "cell_type": "code",
   "execution_count": null,
   "metadata": {},
   "outputs": [],
   "source": [
    "\n",
    "\n"
   ]
  }
 ],
 "metadata": {
  "kernelspec": {
   "display_name": "Python 3",
   "language": "python",
   "name": "python3"
  },
  "language_info": {
   "codemirror_mode": {
    "name": "ipython",
    "version": 3
   },
   "file_extension": ".py",
   "mimetype": "text/x-python",
   "name": "python",
   "nbconvert_exporter": "python",
   "pygments_lexer": "ipython3",
   "version": "3.7.0"
  }
 },
 "nbformat": 4,
 "nbformat_minor": 2
}
