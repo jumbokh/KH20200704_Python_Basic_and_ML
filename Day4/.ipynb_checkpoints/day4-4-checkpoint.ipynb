{
 "cells": [
  {
   "cell_type": "markdown",
   "metadata": {},
   "source": [
    "# Day4-4 Flask + BS4"
   ]
  },
  {
   "cell_type": "markdown",
   "metadata": {},
   "source": [
    "## 簡介\n",
    "\n",
    "- 這一次簡報將和大家分享怎麼使用Flask配合Bootstrap來完成一個網站\n",
    "- 並說明如何把網頁發佈到Heroku上，讓大家可以看到你的作品\n",
    "- 最後將以Flask + Bootstrap + Chart.js 把收集到的數據在以網頁的型式呈現"
   ]
  },
  {
   "cell_type": "markdown",
   "metadata": {},
   "source": [
    "## 大網\n",
    "\n",
    "1. Flask簡介 - 來個Hello world吧\n",
    "2. BootStrap是什麼?\n",
    "3. Flask + Bootstrap4 來做個好像很專業的網站吧!\n",
    "4. 把成品推上Heroku，讓世界看到你\n",
    "5. 設計Web API讓前端可以取得資料\n",
    "6. Flask + Bootstrap4 + Chart.js"
   ]
  },
  {
   "cell_type": "markdown",
   "metadata": {},
   "source": [
    "----\n",
    "## Flask\n",
    "Python 撰寫的輕量級 Web 應用程式框架\n",
    "\n",
    "- [Flask網頁](http://flask.pocoo.org/)\n",
    "\n",
    "- [可以參考](https://medium.com/pyladies-taiwan/%E5%BE%9E%E7%93%B6%E8%A3%A1%E5%80%92%E5%87%BA%E7%AC%AC%E4%B8%80%E6%BB%B4-flask-%E9%96%8B%E5%A7%8B%E5%8B%95%E6%89%8B%E7%8E%A9-95f85895fd64)\n"
   ]
  },
  {
   "cell_type": "markdown",
   "metadata": {},
   "source": [
    "## Day4-4-1: 先不多說，做一個Flask網頁來看看\n",
    "\n",
    "請不要在 jupyter 中跑 web 程式!"
   ]
  },
  {
   "cell_type": "markdown",
   "metadata": {},
   "source": [
    "- Hello flask"
   ]
  },
  {
   "cell_type": "code",
   "execution_count": null,
   "metadata": {},
   "outputs": [],
   "source": [
    "from flask import Flask\n",
    "\n",
    "app = Flask(__name__)\n",
    "\n",
    "@app.route(\"/\")\n",
    "def index():\n",
    "    return \"<h1>Hello Flask</h1>\"\n",
    "\n",
    "if __name__ == \"__main__\":\n",
    "    app.run()"
   ]
  },
  {
   "cell_type": "markdown",
   "metadata": {},
   "source": [
    "### debug\n",
    "加入Debug參數\n",
    "- 會有進一步的debug資訊產生，且一修改程式存檔，它就會再reload"
   ]
  },
  {
   "cell_type": "code",
   "execution_count": null,
   "metadata": {},
   "outputs": [],
   "source": [
    "from flask import Flask\n",
    "\n",
    "app = Flask(__name__)\n",
    "\n",
    "@app.route(\"/\")\n",
    "def index():\n",
    "    return \"<h1>Hello Flask</h1>\"\n",
    "\n",
    "@app.route(\"/error\")\n",
    "def error():\n",
    "    raise RuntimeError\n",
    "\n",
    "if __name__ == \"__main__\":\n",
    "    app.run(debug=True)"
   ]
  },
  {
   "cell_type": "markdown",
   "metadata": {},
   "source": [
    "### 指定Port\n",
    "預設為port=5000\n"
   ]
  },
  {
   "cell_type": "code",
   "execution_count": null,
   "metadata": {},
   "outputs": [],
   "source": [
    "\n",
    "from flask import Flask\n",
    "\n",
    "app = Flask(__name__)\n",
    "\n",
    "@app.route(\"/\")\n",
    "def index():\n",
    "    return \"<h1>Hello Flask</h1>\"\n",
    "\n",
    "if __name__ == \"__main__\":\n",
    "    app.run(debug=True, port=8000)"
   ]
  },
  {
   "cell_type": "markdown",
   "metadata": {},
   "source": [
    "### Dynamic route\n",
    "- By default flask takes \"string\", but you can also specify other types.\n",
    "    - Type: int, float, path"
   ]
  },
  {
   "cell_type": "code",
   "execution_count": null,
   "metadata": {},
   "outputs": [],
   "source": [
    "\n",
    "from flask import Flask\n",
    "\n",
    "app = Flask(__name__)\n",
    "\n",
    "@app.route(\"/\")\n",
    "def index():\n",
    "    return \"<h1>Hello flask</h1>\"\n",
    "\n",
    "#-- new add below\n",
    "\n",
    "@app.route(\"/user/<name>\")\n",
    "def get_user_name(name):\n",
    "    return \"<h1>Hello, {}!</h1>\".format(name)\n",
    "\n",
    "@app.route(\"/user/<int:uid>\")\n",
    "def get_user_id(uid):\n",
    "    if isinstance(uid, int):\n",
    "        return \"<h1>Your ID: {}</h1>\".format(uid)\n",
    "    return \"<h1>ID should be int</h1>\"\n",
    "\n",
    "@app.route(\"/user/<path:path>\")\n",
    "def get_user_path(path):\n",
    "    return \"<h1>Path: {}</h1>\".format(path)\n",
    "\n",
    "if __name__ == \"__main__\":\n",
    "    app.run(port=8000)"
   ]
  },
  {
   "cell_type": "markdown",
   "metadata": {},
   "source": [
    "## 不同的http status code\n",
    "\n",
    "- Default: 200\n",
    "- Status code 400 --> bad request\n",
    "- Status code 302 --> 重新導向\n"
   ]
  },
  {
   "cell_type": "markdown",
   "metadata": {},
   "source": [
    "----"
   ]
  },
  {
   "cell_type": "markdown",
   "metadata": {},
   "source": [
    "## Day4-4-2: Bootstrap\n",
    "\n",
    "- [bootstrap網頁](https://getbootstrap.com/)\n",
    "- [bootstrap template](https://startbootstrap.com/themes/)\n"
   ]
  },
  {
   "cell_type": "markdown",
   "metadata": {},
   "source": [
    "### 下載一份樣版來看看\n",
    "\n",
    "- [resume](https://startbootstrap.com/themes/resume/)\n",
    "    - 先做一個自己的主頁\n",
    "    \n",
    "- [Business](https://startbootstrap.com/themes/business-casual/)\n",
    "    - Bussiness page\n",
    "\n",
    "- [Chart](https://startbootstrap.com/templates/sb-admin/)\n",
    "- [chart2](https://startbootstrap.com/themes/sb-admin-2/)\n",
    "    - 試玩一下，晚點再來了解怎麼用它\n"
   ]
  },
  {
   "cell_type": "markdown",
   "metadata": {},
   "source": [
    "----"
   ]
  },
  {
   "cell_type": "markdown",
   "metadata": {},
   "source": [
    "### Day4-4-3: 先讓網頁和python code獨立\n",
    "進入下一個主題的前知識點"
   ]
  },
  {
   "cell_type": "code",
   "execution_count": null,
   "metadata": {},
   "outputs": [],
   "source": [
    "<!-- templates/index.html -->\n",
    "\n",
    "<h1>Hello World!</h1>"
   ]
  },
  {
   "cell_type": "code",
   "execution_count": null,
   "metadata": {},
   "outputs": [],
   "source": [
    "<!-- templates/user.html -->\n",
    "\n",
    "<h1>Hello, {{ name }}!</h1>"
   ]
  },
  {
   "cell_type": "code",
   "execution_count": null,
   "metadata": {},
   "outputs": [],
   "source": [
    "# app.py\n",
    "\n",
    "from flask import Flask, render_template\n",
    "\n",
    "app = Flask(__name__)\n",
    "\n",
    "@app.route(\"/\")\n",
    "def index():\n",
    "    return render_template(\"index.html\")\n",
    "\n",
    "@app.route(\"/user/<name>\")\n",
    "def user(name):\n",
    "    return render_template(\"user.html\", title=\"\", name=name)\n",
    "\n",
    "if __name__ == \"__main__\":\n",
    "    app.run(debug=True)"
   ]
  },
  {
   "cell_type": "markdown",
   "metadata": {},
   "source": [
    "### Jinja!?"
   ]
  },
  {
   "cell_type": "markdown",
   "metadata": {},
   "source": [
    "----"
   ]
  },
  {
   "cell_type": "markdown",
   "metadata": {},
   "source": [
    "## Day4-4-4: Flask + Bootstrap 來個好像很專業的網頁!!!!"
   ]
  },
  {
   "cell_type": "markdown",
   "metadata": {},
   "source": [
    "### 修改一下樣版! 快速完成一個好看的頁面!"
   ]
  },
  {
   "cell_type": "markdown",
   "metadata": {},
   "source": [
    "----\n",
    "## Day4-4-5: 推上Heroku，讓全世界都看到你!\n",
    "Flask + BS4網頁 + Heroku = 正式公開網站\n",
    "\n",
    "- 會睡覺? 付個錢吧，比你買電腦還便宜的\n",
    "- 7美元*12 = 210 *12 = 2520 (申請固定IP都比這個貴!)"
   ]
  },
  {
   "cell_type": "markdown",
   "metadata": {},
   "source": [
    "### 如何上Heroku\n",
    "請參考「demo_flask+bs4+heroku.zip」，其中Procfile是告訴Heroku要怎麼執行你的web程式，而requirements是告訴它要先安裝什麼套件\n",
    "\n",
    "- 前置作業\n",
    "    - 你要先安裝 git: https://tortoisegit.org/\n",
    "    - 再裝heroku toolbelt: https://blog.heroku.com/the_heroku_toolbelt\n",
    "- 如果剛裝完git\n",
    "    - git config --global user.email \"you@example.com\"\n",
    "    - git config --global user.name \"Your Name\"\n",
    "- 上工吧\n",
    "    - git init\n",
    "    - git add .\n",
    "    - heroku apps:create malo-test            <-- 這邊的\"malo-test\"要改成你自己的名字\n",
    "    - git commit -am \"first version\"\n",
    "    - git push heroku master"
   ]
  },
  {
   "cell_type": "markdown",
   "metadata": {},
   "source": [
    "----\n",
    "## 設計Web API讓前端可以取得資料"
   ]
  },
  {
   "cell_type": "markdown",
   "metadata": {},
   "source": [
    "### 製造點資料給webapi"
   ]
  },
  {
   "cell_type": "code",
   "execution_count": null,
   "metadata": {},
   "outputs": [],
   "source": [
    "# -*- coding: utf-8 -*-\n",
    "\n",
    "import os\n",
    "import random\n",
    "import time\n",
    "import requests\n",
    "\n",
    "from flask import Flask, request, abort, render_template\n",
    "from flask import json, jsonify\n",
    "from flask_cors import CORS, cross_origin # for cross domain problem\n",
    "\n",
    "app = Flask(__name__)\n",
    "#app = Flask(__name__, static_url_path='', static_folder='static')\n",
    "CORS(app)\n",
    "\n",
    "\n",
    "@app.route('/')\n",
    "def index():\n",
    "    the_time = time.strftime(\"%Y-%m-%d %H:%M:%S\", time.gmtime())    \n",
    "    return 'ok. time is ' + the_time\n",
    "\n",
    "\n",
    "@app.route('/aqi-history-get', methods=['GET', 'POST'])\n",
    "def aqi_rt_get():\n",
    "    aqi = {}\n",
    "    aqi['time'] = time.strftime(\"%Y-%m-%d %H:%M:%S\", time.gmtime())  \n",
    "    aqi['location'] = '高雄'\n",
    "    aqi['data'] = []\n",
    "    value = 10\n",
    "    for i in range(10):\n",
    "        value = random.randint(0, 20)\n",
    "        aqi['data'].append(value)\n",
    "    return jsonify(aqi)\n",
    "\n",
    "\n",
    "if __name__ == \"__main__\":\n",
    "    app.run()\n"
   ]
  },
  {
   "cell_type": "markdown",
   "metadata": {},
   "source": [
    "----\n",
    "## Flask + Bootstrap4 + Chart.js\n",
    "把我們webapi的資料變成圖表吧! (請參考 demo_webapi+bs4.zip)"
   ]
  },
  {
   "cell_type": "code",
   "execution_count": null,
   "metadata": {},
   "outputs": [],
   "source": [
    "# -*- coding: utf-8 -*-\n",
    "\n",
    "import os\n",
    "import random\n",
    "import time\n",
    "import requests\n",
    "\n",
    "from flask import Flask, request, abort, render_template\n",
    "from flask import json, jsonify\n",
    "from flask_cors import CORS, cross_origin # for cross domain problem\n",
    "\n",
    "#app = Flask(__name__)\n",
    "app = Flask(__name__, static_url_path='', static_folder='static')\n",
    "CORS(app)\n",
    "\n",
    "\n",
    "@app.route('/')\n",
    "def airbox():\n",
    "    return app.send_static_file('index.html')\n",
    "\n",
    "\n",
    "@app.route('/aqi-history-get', methods=['GET', 'POST'])\n",
    "def aqi_rt_get():\n",
    "    aqi = {}\n",
    "    aqi['time'] = time.strftime(\"%Y-%m-%d %H:%M:%S\", time.gmtime())  \n",
    "    aqi['location'] = '高雄'\n",
    "    aqi['data'] = []\n",
    "    value = 10\n",
    "    for i in range(10):\n",
    "        value = random.randint(0, 20)\n",
    "        aqi['data'].append(value)\n",
    "    return jsonify(aqi)\n",
    "\n",
    "\n",
    "if __name__ == \"__main__\":\n",
    "    app.run(debug=True, port=80)\n"
   ]
  },
  {
   "cell_type": "markdown",
   "metadata": {},
   "source": [
    "### 當然如果你是資料分析師，不想花時間在chartjs上，又沒有前端人員跟你配合…\n",
    "那就用matplot處理掉吧，雖然美觀性、互動性差了一點，不過重點有表達出來還是比較重要的"
   ]
  },
  {
   "cell_type": "markdown",
   "metadata": {},
   "source": [
    "----\n",
    "The End~!\n",
    "----"
   ]
  },
  {
   "cell_type": "code",
   "execution_count": null,
   "metadata": {},
   "outputs": [],
   "source": []
  }
 ],
 "metadata": {
  "kernelspec": {
   "display_name": "Python 3",
   "language": "python",
   "name": "python3"
  },
  "language_info": {
   "codemirror_mode": {
    "name": "ipython",
    "version": 3
   },
   "file_extension": ".py",
   "mimetype": "text/x-python",
   "name": "python",
   "nbconvert_exporter": "python",
   "pygments_lexer": "ipython3",
   "version": "3.7.0"
  }
 },
 "nbformat": 4,
 "nbformat_minor": 2
}
