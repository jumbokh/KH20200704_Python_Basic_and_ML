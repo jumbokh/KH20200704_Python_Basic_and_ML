{
 "cells": [
  {
   "cell_type": "markdown",
   "metadata": {},
   "source": [
    "## Day4-3 : 把空氣品質資料寫入DB中(sqlite3)"
   ]
  },
  {
   "cell_type": "code",
   "execution_count": 15,
   "metadata": {},
   "outputs": [],
   "source": [
    "import requests"
   ]
  },
  {
   "cell_type": "code",
   "execution_count": 16,
   "metadata": {},
   "outputs": [],
   "source": [
    "url = 'http://opendata.epa.gov.tw/ws/Data/AQI/?$format=json'"
   ]
  },
  {
   "cell_type": "code",
   "execution_count": 17,
   "metadata": {},
   "outputs": [],
   "source": [
    "r = requests.get(url)"
   ]
  },
  {
   "cell_type": "code",
   "execution_count": 18,
   "metadata": {},
   "outputs": [
    {
     "data": {
      "text/plain": [
       "<Response [200]>"
      ]
     },
     "execution_count": 18,
     "metadata": {},
     "output_type": "execute_result"
    }
   ],
   "source": [
    "r"
   ]
  },
  {
   "cell_type": "code",
   "execution_count": 19,
   "metadata": {},
   "outputs": [],
   "source": [
    "data = r.json()"
   ]
  },
  {
   "cell_type": "code",
   "execution_count": 20,
   "metadata": {},
   "outputs": [
    {
     "data": {
      "text/plain": [
       "81"
      ]
     },
     "execution_count": 20,
     "metadata": {},
     "output_type": "execute_result"
    }
   ],
   "source": [
    "len(data)"
   ]
  },
  {
   "cell_type": "code",
   "execution_count": 21,
   "metadata": {},
   "outputs": [
    {
     "data": {
      "text/plain": [
       "{'SiteName': '臺南(北門)',\n",
       " 'County': '臺南市',\n",
       " 'AQI': '20',\n",
       " 'Pollutant': '',\n",
       " 'Status': '良好',\n",
       " 'SO2': '-0.5',\n",
       " 'CO': '-0.01',\n",
       " 'CO_8hr': '0.0',\n",
       " 'O3': '19',\n",
       " 'O3_8hr': '22',\n",
       " 'PM10': '10',\n",
       " 'PM2.5': 'ND',\n",
       " 'NO2': '0.6',\n",
       " 'NOx': '1.3',\n",
       " 'NO': '0.7',\n",
       " 'WindSpeed': '3.2',\n",
       " 'WindDirec': '271',\n",
       " 'PublishTime': '2020-07-24 17:00',\n",
       " 'PM2.5_AVG': '3',\n",
       " 'PM10_AVG': '10',\n",
       " 'SO2_AVG': '1',\n",
       " 'Longitude': '120.124444',\n",
       " 'Latitude': '23.264722',\n",
       " 'SiteId': '310'}"
      ]
     },
     "execution_count": 21,
     "metadata": {},
     "output_type": "execute_result"
    }
   ],
   "source": [
    "data[0]"
   ]
  },
  {
   "cell_type": "code",
   "execution_count": 23,
   "metadata": {},
   "outputs": [
    {
     "name": "stdout",
     "output_type": "stream",
     "text": [
      "高雄市 : 復興\n",
      "高雄市 : 小港\n",
      "高雄市 : 前鎮\n",
      "高雄市 : 前金\n",
      "高雄市 : 左營\n",
      "高雄市 : 楠梓\n",
      "高雄市 : 林園\n",
      "高雄市 : 大寮\n",
      "高雄市 : 鳳山\n",
      "高雄市 : 仁武\n",
      "高雄市 : 橋頭\n",
      "高雄市 : 美濃\n"
     ]
    }
   ],
   "source": [
    "for item in data:\n",
    "    if item['County'] == '高雄市':\n",
    "        print(item['County'], ':', item['SiteName'])"
   ]
  },
  {
   "cell_type": "markdown",
   "metadata": {},
   "source": [
    "### 存入DB, 再讀回來"
   ]
  },
  {
   "cell_type": "code",
   "execution_count": 24,
   "metadata": {},
   "outputs": [],
   "source": [
    "import sqlite3\n",
    "import time\n",
    "import json"
   ]
  },
  {
   "cell_type": "code",
   "execution_count": 25,
   "metadata": {},
   "outputs": [],
   "source": [
    "# initial local DB\n",
    "aqi_db = 'aqi_db.db'\n",
    "conn = sqlite3.connect(aqi_db)\n",
    "cursor = conn.cursor()\n",
    "cursor.execute('create table IF NOT EXISTS aqi (time text NOT NULL, data text)')\n",
    "cursor.close()\n",
    "conn.commit()\n",
    "conn.close()"
   ]
  },
  {
   "cell_type": "code",
   "execution_count": 26,
   "metadata": {},
   "outputs": [],
   "source": [
    "# 寫入一筆資料\n",
    "\n",
    "my_data = json.dumps(data[0], sort_keys=True)\n",
    "my_time = data[0]['PublishTime']\n",
    "\n",
    "#- insert into local DB\n",
    "conn = sqlite3.connect(aqi_db)\n",
    "cursor = conn.cursor()\n",
    "cursor.execute(\"insert into aqi (time, data) values('%s', '%s')\" %(my_time, my_data))\n",
    "cursor.close()\n",
    "conn.commit()\n",
    "conn.close()"
   ]
  },
  {
   "cell_type": "code",
   "execution_count": 33,
   "metadata": {},
   "outputs": [
    {
     "name": "stdout",
     "output_type": "stream",
     "text": [
      "2 >\n",
      " [('2020-07-23 14:00', '{\"AQI\": \"32\", \"CO\": \"0.13\", \"CO_8hr\": \"0.1\", \"County\": \"\\\\u81fa\\\\u5357\\\\u5e02\", \"Latitude\": \"23.264722\", \"Longitude\": \"120.124444\", \"NO\": \"0.3\", \"NO2\": \"1.3\", \"NOx\": \"1.6\", \"O3\": \"47\", \"O3_8hr\": \"35\", \"PM10\": \"17\", \"PM10_AVG\": \"21\", \"PM2.5\": \"7\", \"PM2.5_AVG\": \"9\", \"Pollutant\": \"\", \"PublishTime\": \"2020-07-23 14:00\", \"SO2\": \"0.9\", \"SO2_AVG\": \"1\", \"SiteId\": \"310\", \"SiteName\": \"\\\\u81fa\\\\u5357(\\\\u5317\\\\u9580)\", \"Status\": \"\\\\u826f\\\\u597d\", \"WindDirec\": \"275\", \"WindSpeed\": \"3.5\"}'), ('2020-07-24 17:00', '{\"AQI\": \"20\", \"CO\": \"-0.01\", \"CO_8hr\": \"0.0\", \"County\": \"\\\\u81fa\\\\u5357\\\\u5e02\", \"Latitude\": \"23.264722\", \"Longitude\": \"120.124444\", \"NO\": \"0.7\", \"NO2\": \"0.6\", \"NOx\": \"1.3\", \"O3\": \"19\", \"O3_8hr\": \"22\", \"PM10\": \"10\", \"PM10_AVG\": \"10\", \"PM2.5\": \"ND\", \"PM2.5_AVG\": \"3\", \"Pollutant\": \"\", \"PublishTime\": \"2020-07-24 17:00\", \"SO2\": \"-0.5\", \"SO2_AVG\": \"1\", \"SiteId\": \"310\", \"SiteName\": \"\\\\u81fa\\\\u5357(\\\\u5317\\\\u9580)\", \"Status\": \"\\\\u826f\\\\u597d\", \"WindDirec\": \"271\", \"WindSpeed\": \"3.2\"}')]\n"
     ]
    }
   ],
   "source": [
    "# 取出全部\n",
    "\n",
    "conn = sqlite3.connect(aqi_db)\n",
    "cursor = conn.cursor()\n",
    "# select last 5 rows\n",
    "res = cursor.execute('SELECT * FROM aqi')\n",
    "rows = res.fetchall()\n",
    "\n",
    "print(len(rows), '>\\n', rows)"
   ]
  },
  {
   "cell_type": "code",
   "execution_count": 30,
   "metadata": {},
   "outputs": [
    {
     "data": {
      "text/plain": [
       "{'AQI': '32',\n",
       " 'CO': '0.13',\n",
       " 'CO_8hr': '0.1',\n",
       " 'County': '臺南市',\n",
       " 'Latitude': '23.264722',\n",
       " 'Longitude': '120.124444',\n",
       " 'NO': '0.3',\n",
       " 'NO2': '1.3',\n",
       " 'NOx': '1.6',\n",
       " 'O3': '47',\n",
       " 'O3_8hr': '35',\n",
       " 'PM10': '17',\n",
       " 'PM10_AVG': '21',\n",
       " 'PM2.5': '7',\n",
       " 'PM2.5_AVG': '9',\n",
       " 'Pollutant': '',\n",
       " 'PublishTime': '2020-07-23 14:00',\n",
       " 'SO2': '0.9',\n",
       " 'SO2_AVG': '1',\n",
       " 'SiteId': '310',\n",
       " 'SiteName': '臺南(北門)',\n",
       " 'Status': '良好',\n",
       " 'WindDirec': '275',\n",
       " 'WindSpeed': '3.5'}"
      ]
     },
     "execution_count": 30,
     "metadata": {},
     "output_type": "execute_result"
    }
   ],
   "source": [
    "# 把文字的json資料解回來\n",
    "json.loads(rows[0][1])"
   ]
  },
  {
   "cell_type": "code",
   "execution_count": null,
   "metadata": {},
   "outputs": [],
   "source": [
    "\n",
    "\n"
   ]
  },
  {
   "cell_type": "markdown",
   "metadata": {},
   "source": [
    "- 整合成排程"
   ]
  },
  {
   "cell_type": "code",
   "execution_count": 36,
   "metadata": {},
   "outputs": [
    {
     "name": "stdout",
     "output_type": "stream",
     "text": [
      "高雄市 : 左營\n"
     ]
    }
   ],
   "source": [
    "import requests\n",
    "import sqlite3\n",
    "import time\n",
    "import json\n",
    "\n",
    "url = 'http://opendata.epa.gov.tw/ws/Data/AQI/?$format=json'\n",
    "r = requests.get(url)\n",
    "data = r.json()\n",
    "\n",
    "# initial local DB\n",
    "aqi_db = 'aqi_db.db'\n",
    "conn = sqlite3.connect(aqi_db)\n",
    "cursor = conn.cursor()\n",
    "cursor.execute('create table IF NOT EXISTS my_sql (time text NOT NULL, data text)')\n",
    "cursor.close()\n",
    "conn.commit()\n",
    "conn.close()\n",
    "\n",
    "for item in data:\n",
    "    if item['SiteName'] == '左營':\n",
    "        print(item['County'], ':', item['SiteName'])\n",
    "        \n",
    "        #- insert into local DB\n",
    "        conn = sqlite3.connect(aqi_db)\n",
    "        cursor = conn.cursor()\n",
    "        cursor.execute(\"insert into my_sql (time, data) values('%s', '%s')\" %(my_time, my_data))\n",
    "        cursor.close()\n",
    "        conn.commit()\n",
    "        conn.close()"
   ]
  },
  {
   "cell_type": "code",
   "execution_count": 37,
   "metadata": {},
   "outputs": [
    {
     "name": "stdout",
     "output_type": "stream",
     "text": [
      "2 >\n",
      " [('2020-07-24 17:00', '{\"AQI\": \"20\", \"CO\": \"-0.01\", \"CO_8hr\": \"0.0\", \"County\": \"\\\\u81fa\\\\u5357\\\\u5e02\", \"Latitude\": \"23.264722\", \"Longitude\": \"120.124444\", \"NO\": \"0.7\", \"NO2\": \"0.6\", \"NOx\": \"1.3\", \"O3\": \"19\", \"O3_8hr\": \"22\", \"PM10\": \"10\", \"PM10_AVG\": \"10\", \"PM2.5\": \"ND\", \"PM2.5_AVG\": \"3\", \"Pollutant\": \"\", \"PublishTime\": \"2020-07-24 17:00\", \"SO2\": \"-0.5\", \"SO2_AVG\": \"1\", \"SiteId\": \"310\", \"SiteName\": \"\\\\u81fa\\\\u5357(\\\\u5317\\\\u9580)\", \"Status\": \"\\\\u826f\\\\u597d\", \"WindDirec\": \"271\", \"WindSpeed\": \"3.2\"}'), ('2020-07-24 17:00', '{\"AQI\": \"20\", \"CO\": \"-0.01\", \"CO_8hr\": \"0.0\", \"County\": \"\\\\u81fa\\\\u5357\\\\u5e02\", \"Latitude\": \"23.264722\", \"Longitude\": \"120.124444\", \"NO\": \"0.7\", \"NO2\": \"0.6\", \"NOx\": \"1.3\", \"O3\": \"19\", \"O3_8hr\": \"22\", \"PM10\": \"10\", \"PM10_AVG\": \"10\", \"PM2.5\": \"ND\", \"PM2.5_AVG\": \"3\", \"Pollutant\": \"\", \"PublishTime\": \"2020-07-24 17:00\", \"SO2\": \"-0.5\", \"SO2_AVG\": \"1\", \"SiteId\": \"310\", \"SiteName\": \"\\\\u81fa\\\\u5357(\\\\u5317\\\\u9580)\", \"Status\": \"\\\\u826f\\\\u597d\", \"WindDirec\": \"271\", \"WindSpeed\": \"3.2\"}')]\n"
     ]
    }
   ],
   "source": [
    "# 取出全部\n",
    "\n",
    "conn = sqlite3.connect(aqi_db)\n",
    "cursor = conn.cursor()\n",
    "# select last 5 rows\n",
    "res = cursor.execute('SELECT * FROM my_sql')\n",
    "rows = res.fetchall()\n",
    "\n",
    "print(len(rows), '>\\n', rows)"
   ]
  },
  {
   "cell_type": "markdown",
   "metadata": {},
   "source": [
    "### 練習題: 放到GCE排程，定時10分鐘收集一次資料"
   ]
  },
  {
   "cell_type": "code",
   "execution_count": null,
   "metadata": {},
   "outputs": [],
   "source": [
    "\n",
    "\n"
   ]
  },
  {
   "cell_type": "markdown",
   "metadata": {},
   "source": [
    "### 完成WEB API: 把一天的資料都以JSON的格式回傳\n",
    "\n"
   ]
  },
  {
   "cell_type": "code",
   "execution_count": null,
   "metadata": {},
   "outputs": [],
   "source": [
    "\n",
    "\n"
   ]
  }
 ],
 "metadata": {
  "kernelspec": {
   "display_name": "Python 3",
   "language": "python",
   "name": "python3"
  },
  "language_info": {
   "codemirror_mode": {
    "name": "ipython",
    "version": 3
   },
   "file_extension": ".py",
   "mimetype": "text/x-python",
   "name": "python",
   "nbconvert_exporter": "python",
   "pygments_lexer": "ipython3",
   "version": "3.7.0"
  }
 },
 "nbformat": 4,
 "nbformat_minor": 2
}
