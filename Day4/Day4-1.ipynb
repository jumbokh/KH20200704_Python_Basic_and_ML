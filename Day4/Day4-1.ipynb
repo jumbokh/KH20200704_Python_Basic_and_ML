{
 "cells": [
  {
   "cell_type": "markdown",
   "metadata": {},
   "source": [
    "# Day 4 (0725)\n",
    "\n",
    "### 網頁開發應用\n",
    "- Flask + local端應用\n",
    "- 公共腳踏車地圖應用\n",
    "- 空氣品質應用\n",
    "\n",
    "### 雲端架設網站\n",
    "- google GCE為例\n",
    "\n",
    "### 資料庫\n",
    "- sqlite3\n",
    "- 收集空氣品質資料的排程 --> 為下星期做準備\n",
    "\n",
    "### 網頁模版\n",
    "- bootstrap\n",
    "- 選一個樣版來試改\n",
    "\n",
    "----"
   ]
  },
  {
   "cell_type": "markdown",
   "metadata": {},
   "source": [
    "## Day4-1"
   ]
  },
  {
   "cell_type": "markdown",
   "metadata": {},
   "source": [
    "### Demo1: 在local端，以Flask設計網頁程式\n",
    "\n",
    "- Flask 是一個python的網頁微框架 (micro-framework) [link](https://flask.palletsprojects.com/en/1.1.x/)\n",
    "- `pip install flask`\n",
    "- 以下程式為一簡單的網頁功能：\n",
    "    - / : 回傳 \"OK\"文字給 browser\n",
    "    - /test : 回傳資料，並包裝成JSON格式\n",
    "    - /day2-1 : 把即有的網頁傳送給browser顯示\n",
    "\n",
    "### 在console下，下指令 `python app.py` 把web server跑起來\n",
    "- 打開網址: http://localhost:5000/\n",
    "- 打開網址: http://localhost:5000/test\n",
    "- 打開網址: http://localhost:5000/day2-1\n",
    "\n"
   ]
  },
  {
   "cell_type": "code",
   "execution_count": null,
   "metadata": {},
   "outputs": [],
   "source": [
    "import os\n",
    "import random\n",
    "import requests\n",
    "import datetime, time\n",
    "import csv\n",
    "\n",
    "from functools import wraps\n",
    "from flask import Flask, request, abort, render_template, Response\n",
    "from flask import json, jsonify, session, redirect, url_for\n",
    "from flask import send_file\n",
    "\n",
    "VER = 'V2020.07.17'\n",
    "\n",
    "#app = Flask(__name__)\n",
    "app = Flask(__name__, static_url_path='', static_folder='static')\n",
    "\n",
    "@app.route('/test')\n",
    "def test():\n",
    "    local_time = time.strftime(\"%Y-%m-%d %H:%M:%S\", time.localtime())\n",
    "    return jsonify({'result':'OK', 'localtime':local_time, 'version':VER})\n",
    "\n",
    "@app.route('/day2-1')\n",
    "def day2_1():\n",
    "    return app.send_static_file('day2-1.html')\n",
    "\n",
    "@app.route('/')\n",
    "def index():\n",
    "    return 'OK'\n",
    "\n",
    "if __name__ == \"__main__\":\n",
    "    app.run(debug=True, host='0.0.0.0')\n"
   ]
  },
  {
   "cell_type": "markdown",
   "metadata": {},
   "source": [
    "## Demo2: 網頁伺服器：畫圖、傳送圖片"
   ]
  },
  {
   "cell_type": "markdown",
   "metadata": {},
   "source": [
    "----\n",
    "## 把程式放到 GCE 平台，架起自己的web server\n",
    "\n",
    "- 把整個資料夾 zip 起來 (如：demo1_map.zip)\n",
    "- 上傳 GCE ，會在家目錄 `~/` 看到這個檔案，使用指令 `unzip demo1_map.zip` 解壓縮\n",
    "    - 如果是新開的vm，請先安裝pip3，指令： `sudo apt install python3-pip`\n",
    "    - 如果指令有問題，請安裝unzip程式: `sudo apt install unzip`\n",
    "    - 如果缺Flask套件，請下指令: `pip3 install flask`\n",
    "- 同local端一樣的指令 \n",
    "    - 先進到專案資料夾: `cd demo1_map`\n",
    "    - 再執行程式: `python3 app.py`\n",
    "- 打開google防火牆的port 5000 : 請參考 day4-1.pptx的說明\n",
    "- 打開 http://your-ip:5000/ 就可以看到網頁"
   ]
  },
  {
   "cell_type": "markdown",
   "metadata": {},
   "source": [
    "### 如果要讓網頁跑在一般的 80 port，請修改檔案`app.py`這一段為：\n",
    "\n",
    "```\n",
    "if __name__ == \"__main__\":\n",
    "    app.run(debug=True, host='0.0.0.0', port=80)\n",
    "```\n",
    "\n",
    "- 然後進GCE把防火牆的 http port (80 port)把打開\n",
    "- 再執行指令: `sudo python3 app.py`\n"
   ]
  },
  {
   "cell_type": "markdown",
   "metadata": {},
   "source": [
    "### *練習題：把自己的腳踏車地圖網頁加入\n",
    "\n",
    "- 提示1: 產生的 bike.html 要上傳到GCE VM中，再用指令: `mv ~/bike.html ~/demo1_map/static`\n"
   ]
  },
  {
   "cell_type": "code",
   "execution_count": 1,
   "metadata": {},
   "outputs": [],
   "source": [
    "import requests\n",
    "import csv\n",
    "import folium\n",
    "import geocoder\n",
    "\n",
    "url = \"https://data.ntpc.gov.tw/api/datasets/71CD1490-A2DF-4198-BEF1-318479775E8A/csv/file\"\n",
    "r = requests.get(url)\n",
    "decoded_content = r.content.decode('utf-8')\n",
    "cr = csv.reader(decoded_content.splitlines(), delimiter=',')\n",
    "data_list = list(cr)\n",
    "\n",
    "location = geocoder.osm('新北市').latlng\n",
    "\n",
    "m = folium.Map(location=location, zoom_start=14)\n",
    "\n",
    "for item in data_list[1:]:\n",
    "    try:\n",
    "        name = item[1]\n",
    "        area = item[4]\n",
    "        total = item[2]\n",
    "        n = item[3]\n",
    "        lat = item[6]\n",
    "        lng = item[7]\n",
    "        if int(n)<5 and int(n)>0:\n",
    "            folium.Marker([float(lat), float(lng)], popup=name+'<br>剩餘車輛:%s/%s' %(n,total),\n",
    "                        icon=folium.Icon(color='red', prefix='fa', icon='fa-bicycle')).add_to(m)\n",
    "        elif int(n)==0:\n",
    "            folium.Marker([float(lat), float(lng)], popup=name+'<br>剩餘車輛:%s/%s' %(n,total),\n",
    "                        icon=folium.Icon(color='black', prefix='fa', icon='fa-window-close')).add_to(m)\n",
    "        else:\n",
    "            folium.Marker([float(lat), float(lng)], popup=name+'<br>剩餘車輛:%s/%s' %(n,total),\n",
    "                        icon=folium.Icon(color='green', prefix='fa', icon='fa-bicycle')).add_to(m)\n",
    "        \n",
    "    except Exception as e:\n",
    "        print(e.args)\n",
    "        \n",
    "m.save('bike.html')"
   ]
  },
  {
   "cell_type": "markdown",
   "metadata": {},
   "source": [
    "### *練習題：完成動態產生的空氣品質觀測資訊地圖網路"
   ]
  },
  {
   "cell_type": "code",
   "execution_count": null,
   "metadata": {},
   "outputs": [],
   "source": [
    "\n",
    "\n"
   ]
  },
  {
   "cell_type": "code",
   "execution_count": null,
   "metadata": {},
   "outputs": [],
   "source": []
  }
 ],
 "metadata": {
  "kernelspec": {
   "display_name": "Python 3",
   "language": "python",
   "name": "python3"
  },
  "language_info": {
   "codemirror_mode": {
    "name": "ipython",
    "version": 3
   },
   "file_extension": ".py",
   "mimetype": "text/x-python",
   "name": "python",
   "nbconvert_exporter": "python",
   "pygments_lexer": "ipython3",
   "version": "3.7.0"
  }
 },
 "nbformat": 4,
 "nbformat_minor": 2
}
