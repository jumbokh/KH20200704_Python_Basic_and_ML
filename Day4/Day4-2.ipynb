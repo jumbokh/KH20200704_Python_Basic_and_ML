{
 "cells": [
  {
   "cell_type": "markdown",
   "metadata": {},
   "source": [
    "## Day4-2 : database\n",
    "- SQL Server\n",
    "- MySQL\n",
    "- MariaDB\n",
    "- PostgreSQL\n",
    "- sqlite3 : 檔案型，單user使用DB\n",
    "### No SQL\n",
    "- MongoDB"
   ]
  },
  {
   "cell_type": "code",
   "execution_count": 1,
   "metadata": {},
   "outputs": [],
   "source": [
    "import sqlite3\n",
    "import time\n",
    "import json"
   ]
  },
  {
   "cell_type": "code",
   "execution_count": 4,
   "metadata": {},
   "outputs": [],
   "source": [
    "# initial local DB\n",
    "conn = sqlite3.connect('test.db')\n",
    "cursor = conn.cursor()\n",
    "cursor.execute('create table IF NOT EXISTS iot_table (time text NOT NULL, data text)')\n",
    "conn.commit()\n",
    "cursor.close()\n",
    "conn.close()"
   ]
  },
  {
   "cell_type": "code",
   "execution_count": 5,
   "metadata": {},
   "outputs": [],
   "source": [
    "# 寫入一筆資料\n",
    "\n",
    "my_time = time.strftime(\"%Y-%m-%d %H:%M:%S\") #2020-07-25 11:43:00\n",
    "my_data =  {\"H\": 80, \"T\": 32}\n",
    "\n",
    "my_data = json.dumps(my_data, sort_keys=True)\n",
    "\n",
    "#- insert into local DB\n",
    "conn = sqlite3.connect('test.db')\n",
    "cursor = conn.cursor()\n",
    "cursor.execute(\"insert into iot_table (time, data) values('%s', '%s')\" %(my_time, my_data))\n",
    "cursor.close()\n",
    "conn.commit()\n",
    "conn.close()"
   ]
  },
  {
   "cell_type": "code",
   "execution_count": 6,
   "metadata": {},
   "outputs": [
    {
     "name": "stdout",
     "output_type": "stream",
     "text": [
      "[('2020-07-22 18:47:01', '{\"H\": 90, \"T\": 32}'), ('2020-07-22 18:47:29', '{\"H\": 90, \"T\": 32}'), ('2020-07-22 18:50:07', '{\"H\": 80, \"T\": 32}'), ('2020-07-25 11:45:15', '{\"H\": 80, \"T\": 32}'), ('2020-07-25 11:45:50', '{\"H\": 80, \"T\": 32}')]\n"
     ]
    }
   ],
   "source": [
    "# 取出全部\n",
    "\n",
    "conn = sqlite3.connect('test.db')\n",
    "cursor = conn.cursor()\n",
    "# select last 5 rows\n",
    "res = cursor.execute('SELECT * FROM iot_table')\n",
    "rows = res.fetchall()\n",
    "\n",
    "print(rows)"
   ]
  },
  {
   "cell_type": "code",
   "execution_count": 8,
   "metadata": {},
   "outputs": [],
   "source": [
    "data_list = list(rows)"
   ]
  },
  {
   "cell_type": "code",
   "execution_count": 9,
   "metadata": {},
   "outputs": [
    {
     "data": {
      "text/plain": [
       "5"
      ]
     },
     "execution_count": 9,
     "metadata": {},
     "output_type": "execute_result"
    }
   ],
   "source": [
    "len(data_list)"
   ]
  },
  {
   "cell_type": "code",
   "execution_count": 10,
   "metadata": {},
   "outputs": [
    {
     "data": {
      "text/plain": [
       "[('2020-07-22 18:47:01', '{\"H\": 90, \"T\": 32}'),\n",
       " ('2020-07-22 18:47:29', '{\"H\": 90, \"T\": 32}'),\n",
       " ('2020-07-22 18:50:07', '{\"H\": 80, \"T\": 32}'),\n",
       " ('2020-07-25 11:45:15', '{\"H\": 80, \"T\": 32}'),\n",
       " ('2020-07-25 11:45:50', '{\"H\": 80, \"T\": 32}')]"
      ]
     },
     "execution_count": 10,
     "metadata": {},
     "output_type": "execute_result"
    }
   ],
   "source": [
    "data_list"
   ]
  },
  {
   "cell_type": "markdown",
   "metadata": {},
   "source": [
    "- 取得最新一筆資料"
   ]
  },
  {
   "cell_type": "code",
   "execution_count": 11,
   "metadata": {},
   "outputs": [
    {
     "name": "stdout",
     "output_type": "stream",
     "text": [
      "[('2020-07-25 11:45:50', '{\"H\": 80, \"T\": 32}')]\n"
     ]
    }
   ],
   "source": [
    "conn = sqlite3.connect('test.db')\n",
    "cursor = conn.cursor()\n",
    "# select last 5 rows\n",
    "res = cursor.execute('SELECT * FROM iot_table ORDER BY time DESC LIMIT 1')\n",
    "rows = res.fetchall()\n",
    "\n",
    "print(rows)"
   ]
  },
  {
   "cell_type": "code",
   "execution_count": null,
   "metadata": {},
   "outputs": [],
   "source": [
    "# remove rows\n",
    "\n",
    "for row in rows:\n",
    "    #print('delete:', row)\n",
    "    res = cursor.execute(\"DELETE FROM iot_table WHERE time = '%s'\" %(row[0]))\n",
    "cursor.close()\n",
    "conn.commit()\n",
    "conn.close()\n",
    "\n",
    "print('rows:', rows)"
   ]
  },
  {
   "cell_type": "markdown",
   "metadata": {},
   "source": [
    "### 試著把空氣品質資料寫入DB中"
   ]
  },
  {
   "cell_type": "code",
   "execution_count": null,
   "metadata": {},
   "outputs": [],
   "source": [
    "\n",
    "\n"
   ]
  },
  {
   "cell_type": "markdown",
   "metadata": {},
   "source": [
    "### 排程: 把空氣品質資料寫入DB中"
   ]
  },
  {
   "cell_type": "code",
   "execution_count": null,
   "metadata": {},
   "outputs": [],
   "source": [
    "\n",
    "\n",
    "\n"
   ]
  },
  {
   "cell_type": "markdown",
   "metadata": {},
   "source": [
    "### 把資料讀出來，並繪成趨勢圖 (下午)"
   ]
  },
  {
   "cell_type": "code",
   "execution_count": null,
   "metadata": {},
   "outputs": [],
   "source": [
    "\n",
    "\n"
   ]
  }
 ],
 "metadata": {
  "kernelspec": {
   "display_name": "Python 3",
   "language": "python",
   "name": "python3"
  },
  "language_info": {
   "codemirror_mode": {
    "name": "ipython",
    "version": 3
   },
   "file_extension": ".py",
   "mimetype": "text/x-python",
   "name": "python",
   "nbconvert_exporter": "python",
   "pygments_lexer": "ipython3",
   "version": "3.7.0"
  }
 },
 "nbformat": 4,
 "nbformat_minor": 2
}
