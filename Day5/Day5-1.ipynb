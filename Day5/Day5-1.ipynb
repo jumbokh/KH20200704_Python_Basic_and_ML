{
 "cells": [
  {
   "cell_type": "markdown",
   "metadata": {},
   "source": [
    "# Day 5 (0801)\n",
    "\n",
    "### GCE + sqlite3 資料庫\n",
    "- 延續上星期的練習，練習操作累計一個星期的資料\n",
    "- 設計Web-API，讓你的網頁可以讓提供資料服務\n",
    "\n",
    "### GCE更穩定的網頁服務\n",
    "- gunicorn\n",
    "- 開機執行服務\n",
    "\n",
    "### Heroku\n",
    "- 一鍵架設你的網頁服務\n",
    "- 使用指令建立你的網頁\n",
    "- 具有SSL的網頁服務\n",
    "\n",
    "### 快速提供資料庫服務 @Heroku\n",
    "- MySQL\n",
    "- MariaDB\n",
    "- PostgreSQL\n",
    "- 其它\n",
    "\n",
    "### 前端網頁程式\n",
    "- 活的網頁: Javascript\n",
    "- 如何和Web-API合作\n",
    "\n",
    "----"
   ]
  },
  {
   "cell_type": "markdown",
   "metadata": {},
   "source": [
    "# Day5-1 : 操作sqlite3中一星期的資料"
   ]
  },
  {
   "cell_type": "code",
   "execution_count": 2,
   "metadata": {},
   "outputs": [],
   "source": [
    "import sqlite3\n",
    "import time\n",
    "import json\n",
    "\n",
    "aqi_db = 'aqi_db.db'"
   ]
  },
  {
   "cell_type": "markdown",
   "metadata": {},
   "source": [
    "- 先回憶我們怎麼寫進去的"
   ]
  },
  {
   "cell_type": "code",
   "execution_count": null,
   "metadata": {},
   "outputs": [],
   "source": [
    "import requests\n",
    "import sqlite3\n",
    "import time\n",
    "import json\n",
    "\n",
    "url = 'http://opendata.epa.gov.tw/ws/Data/AQI/?$format=json'\n",
    "r = requests.get(url)\n",
    "data = r.json()\n",
    "\n",
    "# initial local DB\n",
    "aqi_db = 'aqi_db.db'\n",
    "conn = sqlite3.connect(aqi_db)\n",
    "cursor = conn.cursor()\n",
    "cursor.execute('create table IF NOT EXISTS aqi (PublishTime text NOT NULL, County text, SiteName text, AQI int, PM10 int)')\n",
    "cursor.close()\n",
    "conn.commit()\n",
    "conn.close()\n",
    "\n",
    "for item in data:\n",
    "    if item['County'] == '高雄市':\n",
    "        print('[%s %s][%s] %s, %s' %(item['County'], item['SiteName'], item['PublishTime'], item['AQI'], item['PM10']) )\n",
    "        \n",
    "        #- insert into local DB\n",
    "        conn = sqlite3.connect(aqi_db)\n",
    "        cursor = conn.cursor()\n",
    "        cursor.execute(\"insert into aqi (PublishTime, County, SiteName, AQI, PM10) values('%s', '%s', '%s', '%s', '%s')\" \n",
    "                       %(item['PublishTime'], item['County'], item['SiteName'], item['AQI'], item['PM10']))\n",
    "        cursor.close()\n",
    "        conn.commit()\n",
    "        conn.close()"
   ]
  },
  {
   "cell_type": "code",
   "execution_count": 6,
   "metadata": {},
   "outputs": [
    {
     "data": {
      "text/plain": [
       "[('2020-07-30 22:00', '高雄市', '復興', 55, 27),\n",
       " ('2020-07-30 22:00', '高雄市', '小港', 59, 27),\n",
       " ('2020-07-30 22:00', '高雄市', '前鎮', 52, 30),\n",
       " ('2020-07-30 22:00', '高雄市', '前金', 55, 44),\n",
       " ('2020-07-30 22:00', '高雄市', '左營', 41, 32),\n",
       " ('2020-07-30 22:00', '高雄市', '楠梓', 46, 42),\n",
       " ('2020-07-30 22:00', '高雄市', '林園', 71, 23),\n",
       " ('2020-07-30 22:00', '高雄市', '大寮', 69, 35),\n",
       " ('2020-07-30 22:00', '高雄市', '鳳山', 49, 30),\n",
       " ('2020-07-30 22:00', '高雄市', '仁武', 51, 49)]"
      ]
     },
     "execution_count": 6,
     "metadata": {},
     "output_type": "execute_result"
    }
   ],
   "source": [
    "# 取出最近的資料\n",
    "\n",
    "conn = sqlite3.connect(aqi_db)\n",
    "cursor = conn.cursor()\n",
    "# select last 5 rows\n",
    "res = cursor.execute(\"SELECT * FROM aqi ORDER BY PublishTime DESC limit 10\")\n",
    "rows = res.fetchall()\n",
    "\n",
    "data_list = list(rows)\n",
    "data_list"
   ]
  },
  {
   "cell_type": "code",
   "execution_count": 7,
   "metadata": {},
   "outputs": [
    {
     "data": {
      "text/plain": [
       "[('2020-07-24 21:00', '高雄市', '林園', 24, 7),\n",
       " ('2020-07-24 22:00', '高雄市', '林園', 23, 4),\n",
       " ('2020-07-24 23:00', '高雄市', '林園', '', 4),\n",
       " ('2020-07-25 00:00', '高雄市', '林園', '', 8),\n",
       " ('2020-07-25 01:00', '高雄市', '林園', '', 7),\n",
       " ('2020-07-25 02:00', '高雄市', '林園', '', 7),\n",
       " ('2020-07-25 03:00', '高雄市', '林園', '', 9),\n",
       " ('2020-07-25 04:00', '高雄市', '林園', '', 12),\n",
       " ('2020-07-25 13:00', '高雄市', '復興', 16, 8),\n",
       " ('2020-07-25 13:00', '高雄市', '小港', 15, 8)]"
      ]
     },
     "execution_count": 7,
     "metadata": {},
     "output_type": "execute_result"
    }
   ],
   "source": [
    "# 取出最舊的資料\n",
    "\n",
    "conn = sqlite3.connect(aqi_db)\n",
    "cursor = conn.cursor()\n",
    "# select last 5 rows\n",
    "res = cursor.execute(\"SELECT * FROM aqi ORDER BY PublishTime ASC limit 10\")\n",
    "rows = res.fetchall()\n",
    "\n",
    "data_list = list(rows)\n",
    "data_list"
   ]
  },
  {
   "cell_type": "code",
   "execution_count": 9,
   "metadata": {},
   "outputs": [
    {
     "data": {
      "text/plain": [
       "[('2020-07-30 21:00', '高雄市', '復興', 53, 25),\n",
       " ('2020-07-30 21:00', '高雄市', '小港', 58, 30),\n",
       " ('2020-07-30 21:00', '高雄市', '前鎮', 48, 34),\n",
       " ('2020-07-30 21:00', '高雄市', '前金', 46, 35),\n",
       " ('2020-07-30 21:00', '高雄市', '左營', 38, 34),\n",
       " ('2020-07-30 21:00', '高雄市', '楠梓', 41, 30),\n",
       " ('2020-07-30 21:00', '高雄市', '林園', 74, 26),\n",
       " ('2020-07-30 21:00', '高雄市', '大寮', 64, 45),\n",
       " ('2020-07-30 21:00', '高雄市', '鳳山', 42, 39),\n",
       " ('2020-07-30 21:00', '高雄市', '仁武', 44, 29),\n",
       " ('2020-07-30 21:00', '高雄市', '橋頭', 42, 24),\n",
       " ('2020-07-30 21:00', '高雄市', '美濃', 16, 16),\n",
       " ('2020-07-30 22:00', '高雄市', '復興', 55, 27),\n",
       " ('2020-07-30 22:00', '高雄市', '小港', 59, 27),\n",
       " ('2020-07-30 22:00', '高雄市', '前鎮', 52, 30),\n",
       " ('2020-07-30 22:00', '高雄市', '前金', 55, 44),\n",
       " ('2020-07-30 22:00', '高雄市', '左營', 41, 32),\n",
       " ('2020-07-30 22:00', '高雄市', '楠梓', 46, 42),\n",
       " ('2020-07-30 22:00', '高雄市', '林園', 71, 23),\n",
       " ('2020-07-30 22:00', '高雄市', '大寮', 69, 35),\n",
       " ('2020-07-30 22:00', '高雄市', '鳳山', 49, 30),\n",
       " ('2020-07-30 22:00', '高雄市', '仁武', 51, 49),\n",
       " ('2020-07-30 22:00', '高雄市', '橋頭', 48, 33),\n",
       " ('2020-07-30 22:00', '高雄市', '美濃', 18, 22)]"
      ]
     },
     "execution_count": 9,
     "metadata": {},
     "output_type": "execute_result"
    }
   ],
   "source": [
    "# 取出某段時間的資料\n",
    "\n",
    "conn = sqlite3.connect(aqi_db)\n",
    "cursor = conn.cursor()\n",
    "# select last 5 rows\n",
    "res = cursor.execute(\"SELECT * FROM aqi WHERE PublishTime > '2020-07-30 20:00' ORDER BY PublishTime ASC\")\n",
    "rows = res.fetchall()\n",
    "\n",
    "data_list = list(rows)\n",
    "data_list"
   ]
  },
  {
   "cell_type": "code",
   "execution_count": null,
   "metadata": {},
   "outputs": [],
   "source": []
  },
  {
   "cell_type": "markdown",
   "metadata": {},
   "source": [
    "## 練習題：利用matplotlib繪製趨勢圖"
   ]
  },
  {
   "cell_type": "code",
   "execution_count": null,
   "metadata": {},
   "outputs": [],
   "source": []
  },
  {
   "cell_type": "markdown",
   "metadata": {},
   "source": [
    "## 練習題：設計Web API，提供資料給它人\n",
    "\n",
    "提示：\n",
    "\n",
    "```\n",
    "@app.route('/api/data/last', methods=['GET'])\n",
    "def api_data_last():\n",
    "    SiteName = request.args.get('SiteName') #ex: 小港\n",
    "    # 開始下SQL資料取資料\n",
    "    \n",
    "```"
   ]
  },
  {
   "cell_type": "code",
   "execution_count": null,
   "metadata": {},
   "outputs": [],
   "source": []
  }
 ],
 "metadata": {
  "kernelspec": {
   "display_name": "Python 3",
   "language": "python",
   "name": "python3"
  },
  "language_info": {
   "codemirror_mode": {
    "name": "ipython",
    "version": 3
   },
   "file_extension": ".py",
   "mimetype": "text/x-python",
   "name": "python",
   "nbconvert_exporter": "python",
   "pygments_lexer": "ipython3",
   "version": "3.7.0"
  }
 },
 "nbformat": 4,
 "nbformat_minor": 2
}
