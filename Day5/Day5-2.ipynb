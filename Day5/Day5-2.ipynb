{
 "cells": [
  {
   "cell_type": "markdown",
   "metadata": {},
   "source": [
    "# Day5-2 : GCE 更穩定的web服務"
   ]
  },
  {
   "cell_type": "markdown",
   "metadata": {},
   "source": [
    "`sudo apt install python3-gunicorn`\n",
    "\n",
    "\n",
    "or `pip install gunicron`, but 在ubuntu中不行\n"
   ]
  },
  {
   "cell_type": "markdown",
   "metadata": {},
   "source": [
    "### 執行web server\n",
    "\n",
    "- `gunicorn -w 2 app:app -b 0.0.0.0:5000`"
   ]
  },
  {
   "cell_type": "code",
   "execution_count": null,
   "metadata": {},
   "outputs": [],
   "source": []
  },
  {
   "cell_type": "markdown",
   "metadata": {},
   "source": [
    "### 背景執行\n",
    "\n",
    "- `gunicorn -w 2 app:app -b 0.0.0.0:5000 &`"
   ]
  },
  {
   "cell_type": "code",
   "execution_count": null,
   "metadata": {},
   "outputs": [],
   "source": []
  },
  {
   "cell_type": "code",
   "execution_count": null,
   "metadata": {},
   "outputs": [],
   "source": []
  },
  {
   "cell_type": "markdown",
   "metadata": {},
   "source": [
    "## Heroku : PAAS的服務\n",
    "\n",
    "- IAAS: GCE, AWS, M$:Azure, Digital Ocean\n",
    "- PAAS: Heroku, GAE, Azure\n",
    "- SAAS: google 文件，google map\n",
    "- etc...\n",
    "\n"
   ]
  },
  {
   "cell_type": "markdown",
   "metadata": {},
   "source": [
    "### 一鍵架站\n",
    "\n",
    "- https://github.com/maloyang/one-click-flask-bs4"
   ]
  },
  {
   "cell_type": "markdown",
   "metadata": {},
   "source": [
    "### 操作說明\n",
    "\n",
    "- https://github.com/maloyang/Heroku-memo"
   ]
  },
  {
   "cell_type": "markdown",
   "metadata": {},
   "source": [
    "### 工具安裝\n",
    "\n",
    "- Heroku toolbelt: https://devcenter.heroku.com/articles/heroku-cli\n",
    "- git: https://tortoisegit.org/\n"
   ]
  }
 ],
 "metadata": {
  "kernelspec": {
   "display_name": "Python 3",
   "language": "python",
   "name": "python3"
  },
  "language_info": {
   "codemirror_mode": {
    "name": "ipython",
    "version": 3
   },
   "file_extension": ".py",
   "mimetype": "text/x-python",
   "name": "python",
   "nbconvert_exporter": "python",
   "pygments_lexer": "ipython3",
   "version": "3.7.0"
  }
 },
 "nbformat": 4,
 "nbformat_minor": 2
}
