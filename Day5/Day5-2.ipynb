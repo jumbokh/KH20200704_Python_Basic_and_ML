{
 "cells": [
  {
   "cell_type": "markdown",
   "metadata": {},
   "source": [
    "# Day5-2 : GCE 更穩定的web服務"
   ]
  },
  {
   "cell_type": "markdown",
   "metadata": {},
   "source": [
    "`sudo apt install python3-gunicorn`\n",
    "\n",
    "\n",
    "or `pip install gunicron`, but 在ubuntu中不行\n"
   ]
  },
  {
   "cell_type": "markdown",
   "metadata": {},
   "source": [
    "### 執行web server\n",
    "\n",
    "- `gunicorn -w 2 app:app -b 0.0.0.0:5000`"
   ]
  },
  {
   "cell_type": "code",
   "execution_count": null,
   "metadata": {},
   "outputs": [],
   "source": []
  },
  {
   "cell_type": "markdown",
   "metadata": {},
   "source": [
    "### 背景執行\n",
    "\n",
    "- `gunicorn -w 2 app:app -b 0.0.0.0:5000 &`"
   ]
  },
  {
   "cell_type": "code",
   "execution_count": null,
   "metadata": {},
   "outputs": [],
   "source": []
  },
  {
   "cell_type": "code",
   "execution_count": null,
   "metadata": {},
   "outputs": [],
   "source": []
  },
  {
   "cell_type": "markdown",
   "metadata": {},
   "source": [
    "## Heroku : PAAS的服務\n",
    "\n",
    "- IAAS: GCE, AWS, M$:Azure, Digital Ocean\n",
    "- PAAS: Heroku, GAE, Azure\n",
    "- SAAS: google 文件，google map\n",
    "- etc...\n",
    "\n"
   ]
  },
  {
   "cell_type": "markdown",
   "metadata": {},
   "source": [
    "### 一鍵架站\n",
    "\n",
    "- https://github.com/maloyang/one-click-flask-bs4"
   ]
  },
  {
   "cell_type": "markdown",
   "metadata": {},
   "source": [
    "### 操作說明\n",
    "\n",
    "- https://github.com/maloyang/Heroku-memo"
   ]
  },
  {
   "cell_type": "markdown",
   "metadata": {},
   "source": [
    "### 工具安裝\n",
    "\n",
    "- Heroku toolbelt: https://devcenter.heroku.com/articles/heroku-cli\n",
    "- git程式: https://github.com/git-for-windows/git/releases/download/v2.28.0.windows.1/Git-2.28.0-64-bit.exe\n",
    "- git 操作的interface: https://tortoisegit.org/\n"
   ]
  },
  {
   "cell_type": "markdown",
   "metadata": {},
   "source": [
    "### 測試工具是否安裝好\n",
    "\n",
    "- 確認git版本: `git --version` \n",
    "- 確認heroku工具的版本: `heroku --version` "
   ]
  },
  {
   "cell_type": "markdown",
   "metadata": {},
   "source": [
    "### 初始設定git (之前設定過就不用再下指令)\n",
    "\n",
    "- 設定user email: `git config --global user.email \"you@example.com\"`\n",
    "- 設定user name: `git config --global user.name \"Your Name\"`"
   ]
  },
  {
   "cell_type": "markdown",
   "metadata": {},
   "source": [
    "### 登入Heroku\n",
    "\n",
    "- heroku login"
   ]
  },
  {
   "cell_type": "markdown",
   "metadata": {},
   "source": [
    "### 把之前一鍵架站產生的專案抓回來\n",
    "\n",
    "- 以下的指令中 \"my-webapi\" 填入你的專案名稱\n",
    "- `heroku git:clone -a my-webapi`"
   ]
  },
  {
   "cell_type": "markdown",
   "metadata": {},
   "source": [
    "### 如果專案中沒有檔案，要自己手動加入的話\n",
    "- `git add .`\n",
    "- 對這一次的修改加入註解: `git commit -am \"first version\"`"
   ]
  },
  {
   "cell_type": "markdown",
   "metadata": {},
   "source": [
    "### 佈署專案到雲端\n",
    "- `git push heroku master`"
   ]
  }
 ],
 "metadata": {
  "kernelspec": {
   "display_name": "Python 3",
   "language": "python",
   "name": "python3"
  },
  "language_info": {
   "codemirror_mode": {
    "name": "ipython",
    "version": 3
   },
   "file_extension": ".py",
   "mimetype": "text/x-python",
   "name": "python",
   "nbconvert_exporter": "python",
   "pygments_lexer": "ipython3",
   "version": "3.7.0"
  }
 },
 "nbformat": 4,
 "nbformat_minor": 2
}
