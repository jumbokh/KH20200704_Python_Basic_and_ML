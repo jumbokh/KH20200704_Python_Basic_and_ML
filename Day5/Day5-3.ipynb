{
 "cells": [
  {
   "cell_type": "markdown",
   "metadata": {},
   "source": [
    "# Day5-3 : 雲端資料庫\n",
    "\n",
    "- 使用Heroku的add-on"
   ]
  },
  {
   "cell_type": "markdown",
   "metadata": {},
   "source": [
    "### MySQL 操作"
   ]
  },
  {
   "cell_type": "code",
   "execution_count": null,
   "metadata": {},
   "outputs": [],
   "source": [
    "mysql_db_url = 'mysql://your-db-url'"
   ]
  },
  {
   "cell_type": "code",
   "execution_count": null,
   "metadata": {},
   "outputs": [],
   "source": [
    "# 先裝 mysql的connection driver\n",
    "# pip install PyMySQL\n",
    "\n",
    "from sqlalchemy import create_engine\n",
    "# add \"+pymysql\" in url\n",
    "mysql_db_url = 'mysql+pymysql://your-db-url'\n",
    "my_db = create_engine(mysql_db_url)"
   ]
  },
  {
   "cell_type": "code",
   "execution_count": null,
   "metadata": {},
   "outputs": [],
   "source": [
    "# check and create table\n",
    "resultProxy = my_db.execute(\"CREATE TABLE IF NOT EXISTS test_table(uuid text NOT NULL, time text NOT NULL, data text)\")\n",
    "resultProxy.__dict__"
   ]
  },
  {
   "cell_type": "code",
   "execution_count": null,
   "metadata": {},
   "outputs": [],
   "source": [
    "import time\n",
    "\n",
    "# PostgreSQL insert\n",
    "my_time = time.strftime(\"%Y-%m-%d %H:%M:%S\")\n",
    "uuid = 'yang_home'\n",
    "data = {\"H\": 80, \"T\": 30}\n",
    "data = json.dumps(data)\n",
    "resultProxy=my_db.execute(\"insert into test_table (uuid, time, data) values('%s', '%s', '%s')\" %(uuid, my_time, data))"
   ]
  },
  {
   "cell_type": "code",
   "execution_count": null,
   "metadata": {},
   "outputs": [],
   "source": [
    "resultProxy.__dict__"
   ]
  },
  {
   "cell_type": "code",
   "execution_count": null,
   "metadata": {},
   "outputs": [],
   "source": [
    "# select\n",
    "resultProxy=my_db.execute(\"select * from test_table\")\n",
    "data = resultProxy.fetchall()\n",
    "print('-- data --')\n",
    "print(data)"
   ]
  },
  {
   "cell_type": "markdown",
   "metadata": {},
   "source": [
    "### 練習題：把sqlite資料庫的轉到MySQL"
   ]
  },
  {
   "cell_type": "code",
   "execution_count": null,
   "metadata": {},
   "outputs": [],
   "source": []
  },
  {
   "cell_type": "code",
   "execution_count": null,
   "metadata": {},
   "outputs": [],
   "source": []
  },
  {
   "cell_type": "markdown",
   "metadata": {},
   "source": [
    "### MariaDB的操作"
   ]
  },
  {
   "cell_type": "code",
   "execution_count": null,
   "metadata": {},
   "outputs": [],
   "source": []
  },
  {
   "cell_type": "code",
   "execution_count": null,
   "metadata": {},
   "outputs": [],
   "source": []
  },
  {
   "cell_type": "markdown",
   "metadata": {},
   "source": [
    "### PostgreSQL的操作\n"
   ]
  },
  {
   "cell_type": "code",
   "execution_count": null,
   "metadata": {},
   "outputs": [],
   "source": [
    "pg_db_url = 'postgres://your-db-url'"
   ]
  },
  {
   "cell_type": "code",
   "execution_count": null,
   "metadata": {},
   "outputs": [],
   "source": [
    "from sqlalchemy import create_engine\n",
    "pg_db = create_engine(pg_db_url)"
   ]
  },
  {
   "cell_type": "code",
   "execution_count": null,
   "metadata": {},
   "outputs": [],
   "source": [
    "# check and create table\n",
    "resultProxy = pg_db.execute(\"CREATE TABLE IF NOT EXISTS test_table(uuid text NOT NULL, time text NOT NULL, data text)\")"
   ]
  },
  {
   "cell_type": "code",
   "execution_count": null,
   "metadata": {},
   "outputs": [],
   "source": [
    "import json\n",
    "import time\n",
    "\n",
    "# PostgreSQL insert\n",
    "my_time = time.strftime(\"%Y-%m-%d %H:%M:%S\")\n",
    "uuid = 'yang_home'\n",
    "data = {\"H\": 80, \"T\": 30}\n",
    "data = json.dumps(data)\n",
    "resultProxy=pg_db.execute(\"insert into test_table (uuid, time, data) values('%s', '%s', '%s')\" %(uuid, my_time, data))"
   ]
  },
  {
   "cell_type": "code",
   "execution_count": null,
   "metadata": {},
   "outputs": [],
   "source": [
    "resultProxy.__dict__"
   ]
  },
  {
   "cell_type": "code",
   "execution_count": null,
   "metadata": {},
   "outputs": [],
   "source": [
    "# PostreSQL select\n",
    "resultProxy=pg_db.execute(\"select * from test_table\")\n",
    "data = resultProxy.fetchall()\n",
    "print('-- data --')\n",
    "print(data)"
   ]
  },
  {
   "cell_type": "code",
   "execution_count": null,
   "metadata": {},
   "outputs": [],
   "source": []
  },
  {
   "cell_type": "code",
   "execution_count": null,
   "metadata": {},
   "outputs": [],
   "source": []
  },
  {
   "cell_type": "code",
   "execution_count": null,
   "metadata": {},
   "outputs": [],
   "source": []
  }
 ],
 "metadata": {
  "kernelspec": {
   "display_name": "Python 3",
   "language": "python",
   "name": "python3"
  },
  "language_info": {
   "codemirror_mode": {
    "name": "ipython",
    "version": 3
   },
   "file_extension": ".py",
   "mimetype": "text/x-python",
   "name": "python",
   "nbconvert_exporter": "python",
   "pygments_lexer": "ipython3",
   "version": "3.7.0"
  }
 },
 "nbformat": 4,
 "nbformat_minor": 2
}
