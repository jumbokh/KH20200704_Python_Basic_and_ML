{
 "cells": [
  {
   "cell_type": "markdown",
   "metadata": {},
   "source": [
    "# Day2-2 : 空污警報"
   ]
  },
  {
   "cell_type": "markdown",
   "metadata": {},
   "source": [
    "### 空氣品質應用"
   ]
  },
  {
   "cell_type": "code",
   "execution_count": 3,
   "metadata": {},
   "outputs": [],
   "source": [
    "import requests"
   ]
  },
  {
   "cell_type": "code",
   "execution_count": 4,
   "metadata": {},
   "outputs": [],
   "source": [
    "url = 'http://opendata.epa.gov.tw/ws/Data/AQI/?$format=json'"
   ]
  },
  {
   "cell_type": "code",
   "execution_count": 5,
   "metadata": {},
   "outputs": [],
   "source": [
    "r = requests.get(url)"
   ]
  },
  {
   "cell_type": "code",
   "execution_count": 6,
   "metadata": {},
   "outputs": [
    {
     "data": {
      "text/plain": [
       "<Response [200]>"
      ]
     },
     "execution_count": 6,
     "metadata": {},
     "output_type": "execute_result"
    }
   ],
   "source": [
    "r"
   ]
  },
  {
   "cell_type": "code",
   "execution_count": 7,
   "metadata": {},
   "outputs": [],
   "source": [
    "data = r.json()"
   ]
  },
  {
   "cell_type": "code",
   "execution_count": 8,
   "metadata": {},
   "outputs": [
    {
     "data": {
      "text/plain": [
       "{'SiteName': '臺南(北門)',\n",
       " 'County': '臺南市',\n",
       " 'AQI': '24',\n",
       " 'Pollutant': '',\n",
       " 'Status': '良好',\n",
       " 'SO2': '0.2',\n",
       " 'CO': '0.09',\n",
       " 'CO_8hr': '0.1',\n",
       " 'O3': '28',\n",
       " 'O3_8hr': '26',\n",
       " 'PM10': '12',\n",
       " 'PM2.5': 'ND',\n",
       " 'NO2': '1.5',\n",
       " 'NOx': '1.4',\n",
       " 'NO': '-0.1',\n",
       " 'WindSpeed': '1.3',\n",
       " 'WindDirec': '241',\n",
       " 'PublishTime': '2020-07-03 20:00',\n",
       " 'PM2.5_AVG': '3',\n",
       " 'PM10_AVG': '14',\n",
       " 'SO2_AVG': '1',\n",
       " 'Longitude': '120.124444',\n",
       " 'Latitude': '23.264722',\n",
       " 'SiteId': '310'}"
      ]
     },
     "execution_count": 8,
     "metadata": {},
     "output_type": "execute_result"
    }
   ],
   "source": [
    "data[0]"
   ]
  },
  {
   "cell_type": "code",
   "execution_count": 9,
   "metadata": {},
   "outputs": [],
   "source": [
    "# TODO: 取出你所在地的空污資訊\n",
    "\n"
   ]
  },
  {
   "cell_type": "markdown",
   "metadata": {},
   "source": [
    "----\n",
    "## Email警報"
   ]
  },
  {
   "cell_type": "code",
   "execution_count": null,
   "metadata": {},
   "outputs": [],
   "source": [
    "# 以google為例，你需要把安全性放寬"
   ]
  },
  {
   "cell_type": "code",
   "execution_count": null,
   "metadata": {},
   "outputs": [],
   "source": [
    "import smtplib\n",
    "smtp=smtplib.SMTP('smtp.gmail.com', 587)\n",
    "smtp.ehlo()\n",
    "smtp.starttls()\n",
    "smtp.login('你的信箱','你的密碼')\n",
    "from_addr='你的信箱'\n",
    "to_addr=\"收件人信箱\"\n",
    "msg=\"Subject:Gmail sent by Python scripts\\nHello World!\"\n",
    "status=smtp.sendmail(from_addr, to_addr, msg)#加密文件，避免私密信息被截取\n",
    "if status=={}:\n",
    "    print(\"郵件傳送成功!\")\n",
    "else:\n",
    "    print(\"郵件傳送失敗!\")\n",
    "smtp.quit()"
   ]
  },
  {
   "cell_type": "markdown",
   "metadata": {},
   "source": [
    "### 請試寫程式，讓AQI超過正常值時，發出一封email給自己\n"
   ]
  },
  {
   "cell_type": "code",
   "execution_count": null,
   "metadata": {},
   "outputs": [],
   "source": [
    "# 請在此填入你的程式\n",
    "\n",
    "import requests\n",
    "import smtplib\n",
    "\n",
    "url = 'http://opendata.epa.gov.tw/ws/Data/AQI/?$format=json'\n",
    "r = requests.get(url)\n",
    "data = r.json()\n",
    "\n",
    "# 假設第5筆資料是我的所在地\n",
    "aqi = int(data[5]['AQI'])\n",
    "\n",
    "if aqi>50:\n",
    "    smtp=smtplib.SMTP('smtp.gmail.com', 587)\n",
    "    smtp.ehlo()\n",
    "    smtp.starttls()\n",
    "    smtp.login('你的信箱','你的密碼')\n",
    "    from_addr='你的信箱'\n",
    "    to_addr=\"收件人信箱\"\n",
    "    msg=\"Subject:AQI alarm\\nyour AQI is over! AQI=%s\" %(aqi)\n",
    "    status=smtp.sendmail(from_addr, to_addr, msg)#加密文件，避免私密信息被截取\n",
    "    if status=={}:\n",
    "        print(\"郵件傳送成功!\")\n",
    "    else:\n",
    "        print(\"郵件傳送失敗!\")\n",
    "    smtp.quit()    "
   ]
  },
  {
   "cell_type": "markdown",
   "metadata": {},
   "source": [
    "----\n",
    "## line API\n",
    "\n",
    "- 先以講師申請的line token進行測試\n",
    "- 申請開發者帳號\n",
    "- 申請line token\n",
    "- 以自己的token進行自己的警報"
   ]
  },
  {
   "cell_type": "markdown",
   "metadata": {},
   "source": [
    "- 第一個LINE通知服務練習: 請修改\"Title\"中的文字，以便分辨是自己傳送成功"
   ]
  },
  {
   "cell_type": "code",
   "execution_count": 2,
   "metadata": {},
   "outputs": [],
   "source": [
    "# 課程的token\n",
    "# 由：https://notify-bot.line.me/my/ 取得\n",
    "\n",
    "token = 'xKkAS3hOquwluB4ZKfCfEAEui8HpGfwmurvm2tc8J31' #Python課程"
   ]
  },
  {
   "cell_type": "code",
   "execution_count": 3,
   "metadata": {},
   "outputs": [
    {
     "data": {
      "text/plain": [
       "<Response [200]>"
      ]
     },
     "execution_count": 3,
     "metadata": {},
     "output_type": "execute_result"
    }
   ],
   "source": [
    "import requests\n",
    "\n",
    "url = \"https://notify-api.line.me/api/notify\"  # --> 不支援http, 只能用https\n",
    "headers = {\"Authorization\" : \"Bearer \"+ token}\n",
    "\n",
    "title = 'Malo御用'\n",
    "message =  '[%s] 課程demo' %(title)\n",
    "payload = {\"message\" :  message}\n",
    "\n",
    "r = requests.post(url ,headers = headers ,params=payload)\n",
    "r"
   ]
  },
  {
   "cell_type": "markdown",
   "metadata": {},
   "source": [
    "- 申請Line Notify token: 請開啟「line服務說明.ipynb」檔案，依說明進行"
   ]
  },
  {
   "cell_type": "markdown",
   "metadata": {},
   "source": [
    "### 完成一個程式，可以發出line 訊息給自己"
   ]
  },
  {
   "cell_type": "code",
   "execution_count": null,
   "metadata": {},
   "outputs": [],
   "source": [
    "# 請在此填入程式\n",
    "\n",
    "\n"
   ]
  },
  {
   "cell_type": "code",
   "execution_count": null,
   "metadata": {},
   "outputs": [],
   "source": []
  },
  {
   "cell_type": "markdown",
   "metadata": {},
   "source": [
    "### 請試寫程式，讓AQI超過正常值時，發出line訊息給自己 (若沒有超過，就發送目前AQI, 或是把全台AQI超標的都寄出來)\n"
   ]
  },
  {
   "cell_type": "code",
   "execution_count": null,
   "metadata": {},
   "outputs": [],
   "source": [
    "# 請在此填入你的程式\n",
    "\n",
    "# 請在此填入你的程式\n",
    "\n",
    "import requests\n",
    "import smtplib\n",
    "\n",
    "url = 'http://opendata.epa.gov.tw/ws/Data/AQI/?$format=json'\n",
    "r = requests.get(url)\n",
    "data = r.json()\n",
    "\n",
    "# 假設第5筆資料是我的所在地\n",
    "aqi = int(data[5]['AQI'])\n",
    "\n",
    "if aqi>50:\n",
    "    token = 'xKkAS3hOquwluB4ZKfCfEAEui8HpGfwmurvm2tc8J31' #Python課程\n",
    "    url = \"https://notify-api.line.me/api/notify\"  # --> 不支援http, 只能用https\n",
    "    headers = {\"Authorization\" : \"Bearer \"+ token}\n",
    "\n",
    "    title = 'AQI alarm'\n",
    "    message =  '[%s] your AQI is over! AQI=%s' %(title, aqi)\n",
    "    payload = {\"message\" :  message}\n",
    "\n",
    "    r = requests.post(url ,headers = headers ,params=payload)\n"
   ]
  },
  {
   "cell_type": "markdown",
   "metadata": {},
   "source": [
    "### 傳送圖片"
   ]
  },
  {
   "cell_type": "code",
   "execution_count": 4,
   "metadata": {},
   "outputs": [
    {
     "data": {
      "text/plain": [
       "<Response [200]>"
      ]
     },
     "execution_count": 4,
     "metadata": {},
     "output_type": "execute_result"
    }
   ],
   "source": [
    "\n",
    "img = 'dog.png'\n",
    "\n",
    "title = 'image test'\n",
    "message =  '[%s] 我的愛犬' %(title)\n",
    "payload = {\"message\" :  message}\n",
    "\n",
    "files = {'imageFile': open(img, 'rb')}\n",
    "r = requests.post(url, headers = headers, params = payload, files = files)\n",
    "r"
   ]
  },
  {
   "cell_type": "markdown",
   "metadata": {},
   "source": [
    "- 網路上的照片"
   ]
  },
  {
   "cell_type": "code",
   "execution_count": 5,
   "metadata": {},
   "outputs": [
    {
     "data": {
      "text/plain": [
       "<Response [200]>"
      ]
     },
     "execution_count": 5,
     "metadata": {},
     "output_type": "execute_result"
    }
   ],
   "source": [
    "img_url = 'https://cc.tvbs.com.tw/img/upload/2018/04/03/20180403100006-0b73c52c.jpg'\n",
    "r = requests.get(img_url)\n",
    "r"
   ]
  },
  {
   "cell_type": "code",
   "execution_count": 6,
   "metadata": {},
   "outputs": [
    {
     "data": {
      "text/plain": [
       "<Response [200]>"
      ]
     },
     "execution_count": 6,
     "metadata": {},
     "output_type": "execute_result"
    }
   ],
   "source": [
    "title = 'image test2'\n",
    "message =  '[%s] 美圖' %(title)\n",
    "payload = {\"message\" :  message}\n",
    "\n",
    "files = {'imageFile': r.content}\n",
    "r = requests.post(url, headers = headers, params = payload, files = files)\n",
    "r"
   ]
  },
  {
   "cell_type": "markdown",
   "metadata": {},
   "source": [
    "----"
   ]
  },
  {
   "cell_type": "markdown",
   "metadata": {},
   "source": [
    "### 包裝成Function\n",
    "\n",
    "- 先來了解什麼是函式"
   ]
  },
  {
   "cell_type": "code",
   "execution_count": 7,
   "metadata": {},
   "outputs": [],
   "source": [
    "def func_test():\n",
    "    print('我是函式')"
   ]
  },
  {
   "cell_type": "code",
   "execution_count": 8,
   "metadata": {},
   "outputs": [
    {
     "name": "stdout",
     "output_type": "stream",
     "text": [
      "我是函式\n"
     ]
    }
   ],
   "source": [
    "func_test()"
   ]
  },
  {
   "cell_type": "markdown",
   "metadata": {},
   "source": [
    "- 加入參數"
   ]
  },
  {
   "cell_type": "code",
   "execution_count": 9,
   "metadata": {},
   "outputs": [],
   "source": [
    "def func_test2(message):\n",
    "    print('要顯示的訊息是：%s' %(message))"
   ]
  },
  {
   "cell_type": "code",
   "execution_count": 10,
   "metadata": {},
   "outputs": [
    {
     "name": "stdout",
     "output_type": "stream",
     "text": [
      "要顯示的訊息是：test\n"
     ]
    }
   ],
   "source": [
    "func_test2('test')"
   ]
  },
  {
   "cell_type": "code",
   "execution_count": 11,
   "metadata": {},
   "outputs": [
    {
     "name": "stdout",
     "output_type": "stream",
     "text": [
      "要顯示的訊息是：1234\n"
     ]
    }
   ],
   "source": [
    "func_test2(1234)"
   ]
  },
  {
   "cell_type": "code",
   "execution_count": 13,
   "metadata": {},
   "outputs": [
    {
     "name": "stdout",
     "output_type": "stream",
     "text": [
      "要顯示的訊息是：[1, 3, 5, 7, 'aaa', 'bbb']\n"
     ]
    }
   ],
   "source": [
    "ll = [1, 3, 5, 7, 'aaa', 'bbb']\n",
    "func_test2(ll)"
   ]
  },
  {
   "cell_type": "code",
   "execution_count": 14,
   "metadata": {},
   "outputs": [
    {
     "name": "stdout",
     "output_type": "stream",
     "text": [
      "要顯示的訊息是：{'name': 'jacky', 'age': 39}\n"
     ]
    }
   ],
   "source": [
    "dd = {'name':'jacky', 'age':39}\n",
    "func_test2(dd)"
   ]
  },
  {
   "cell_type": "markdown",
   "metadata": {},
   "source": [
    "- 加入回傳值"
   ]
  },
  {
   "cell_type": "code",
   "execution_count": 15,
   "metadata": {},
   "outputs": [],
   "source": [
    "def func_test3(v1, v2):\n",
    "    v3 = v1*v2+10\n",
    "    return v3"
   ]
  },
  {
   "cell_type": "code",
   "execution_count": 16,
   "metadata": {},
   "outputs": [
    {
     "data": {
      "text/plain": [
       "210"
      ]
     },
     "execution_count": 16,
     "metadata": {},
     "output_type": "execute_result"
    }
   ],
   "source": [
    "func_test3(10, 20)"
   ]
  },
  {
   "cell_type": "code",
   "execution_count": 19,
   "metadata": {},
   "outputs": [],
   "source": [
    "def func_tmp(value):\n",
    "    output = (value-4)*60-20\n",
    "    return output"
   ]
  },
  {
   "cell_type": "code",
   "execution_count": 20,
   "metadata": {},
   "outputs": [
    {
     "name": "stdout",
     "output_type": "stream",
     "text": [
      "溫度= 340\n"
     ]
    }
   ],
   "source": [
    "raw_data = 10\n",
    "print('溫度=', func_tmp(raw_data))"
   ]
  },
  {
   "cell_type": "markdown",
   "metadata": {},
   "source": [
    "- 練習題：把line notify的功能包裝成function"
   ]
  },
  {
   "cell_type": "code",
   "execution_count": 2,
   "metadata": {},
   "outputs": [],
   "source": [
    "# 課程的token\n",
    "# 由：https://notify-bot.line.me/my/ 取得\n",
    "\n",
    "token = 'xKkAS3hOquwluB4ZKfCfEAEui8HpGfwmurvm2tc8J31' #Python課程"
   ]
  },
  {
   "cell_type": "code",
   "execution_count": 21,
   "metadata": {},
   "outputs": [],
   "source": [
    "# 請在此填入你的程式\n",
    "def func_notify(token, message):\n",
    "    url = \"https://notify-api.line.me/api/notify\"\n",
    "    headers = {\"Authorization\" : \"Bearer \"+ token}\n",
    "    payload = {\"message\" :  message}\n",
    "    r = requests.post(url ,headers = headers ,params=payload)\n",
    "    return r"
   ]
  },
  {
   "cell_type": "code",
   "execution_count": 22,
   "metadata": {},
   "outputs": [
    {
     "data": {
      "text/plain": [
       "<Response [200]>"
      ]
     },
     "execution_count": 22,
     "metadata": {},
     "output_type": "execute_result"
    }
   ],
   "source": [
    "token = 'xKkAS3hOquwluB4ZKfCfEAEui8HpGfwmurvm2tc8J31' #Python課程\n",
    "func_notify(token, 'my message')"
   ]
  },
  {
   "cell_type": "code",
   "execution_count": 27,
   "metadata": {},
   "outputs": [],
   "source": [
    "# 請在此填入你的程式\n",
    "def func_notify2(token='xKkAS3hOquwluB4ZKfCfEAEui8HpGfwmurvm2tc8J31', message='hello'):\n",
    "    url = \"https://notify-api.line.me/api/notify\"\n",
    "    headers = {\"Authorization\" : \"Bearer \"+ token}\n",
    "    payload = {\"message\" :  message}\n",
    "    r = requests.post(url ,headers = headers ,params=payload)\n",
    "    return r"
   ]
  },
  {
   "cell_type": "code",
   "execution_count": 29,
   "metadata": {},
   "outputs": [
    {
     "data": {
      "text/plain": [
       "<Response [200]>"
      ]
     },
     "execution_count": 29,
     "metadata": {},
     "output_type": "execute_result"
    }
   ],
   "source": [
    "func_notify2(message='my msg') #--> func_notify2('my msg', 'hello')"
   ]
  },
  {
   "cell_type": "markdown",
   "metadata": {},
   "source": [
    "## 排程: 讓你的電腦可以自動的每天發出訊息通知"
   ]
  },
  {
   "cell_type": "markdown",
   "metadata": {},
   "source": [
    "- 首先你要先新增一個`send.py`的檔案，內容如下: (這個程式會在執行時確認是否超標，超標時才會寄出訊息)"
   ]
  },
  {
   "cell_type": "code",
   "execution_count": null,
   "metadata": {},
   "outputs": [],
   "source": [
    "# 請在此填入你的程式\n",
    "\n",
    "import requests\n",
    "import smtplib\n",
    "\n",
    "url = 'http://opendata.epa.gov.tw/ws/Data/AQI/?$format=json'\n",
    "r = requests.get(url)\n",
    "data = r.json()\n",
    "\n",
    "# 假設第5筆資料是我的所在地\n",
    "aqi = int(data[5]['AQI'])\n",
    "\n",
    "if aqi>50:\n",
    "    token = 'xKkAS3hOquwluB4ZKfCfEAEui8HpGfwmurvm2tc8J31' #Python課程\n",
    "    url = \"https://notify-api.line.me/api/notify\"  # --> 不支援http, 只能用https\n",
    "    headers = {\"Authorization\" : \"Bearer \"+ token}\n",
    "\n",
    "    title = 'AQI alarm'\n",
    "    message =  '[%s] your AQI is over! AQI=%s' %(title, aqi)\n",
    "    payload = {\"message\" :  message}\n",
    "\n",
    "    r = requests.post(url ,headers = headers ,params=payload)\n"
   ]
  },
  {
   "cell_type": "markdown",
   "metadata": {},
   "source": [
    "- 第二，你需要新增一個 `run.bat`檔，讓系統排程執行`send.py`時，可以以python去執行它，檔案內容為："
   ]
  },
  {
   "cell_type": "code",
   "execution_count": null,
   "metadata": {},
   "outputs": [],
   "source": [
    "cd C:\\Users\\malo\\Documents\\KH20200704_Python_Basic_and_ML-master\\Day2\n",
    "\n",
    "python send.py\n"
   ]
  },
  {
   "cell_type": "markdown",
   "metadata": {},
   "source": [
    "- 如果你不想把程式放在C槽，需是放在D槽，請在 cd後加上 /d 讓他移動資料夾位置時可以連同磁碟槽也切換"
   ]
  },
  {
   "cell_type": "code",
   "execution_count": null,
   "metadata": {},
   "outputs": [],
   "source": [
    "cd /d D:\\Users\\malo\\Documents\\KH20200704_Python_Basic_and_ML-master\\Day2\n",
    "\n",
    "python send.py\n"
   ]
  },
  {
   "cell_type": "markdown",
   "metadata": {},
   "source": [
    "- 以下是同學有問到如何取得時間的部份"
   ]
  },
  {
   "cell_type": "code",
   "execution_count": 30,
   "metadata": {},
   "outputs": [],
   "source": [
    "import datetime"
   ]
  },
  {
   "cell_type": "code",
   "execution_count": 32,
   "metadata": {},
   "outputs": [],
   "source": [
    "now = datetime.datetime.now()"
   ]
  },
  {
   "cell_type": "code",
   "execution_count": 35,
   "metadata": {},
   "outputs": [
    {
     "data": {
      "text/plain": [
       "'2020-07-11 15:46:56'"
      ]
     },
     "execution_count": 35,
     "metadata": {},
     "output_type": "execute_result"
    }
   ],
   "source": [
    "str_now = now.strftime(\"%Y-%m-%d %H:%M:%S\")\n",
    "str_now"
   ]
  },
  {
   "cell_type": "code",
   "execution_count": 36,
   "metadata": {},
   "outputs": [
    {
     "data": {
      "text/plain": [
       "'15:46'"
      ]
     },
     "execution_count": 36,
     "metadata": {},
     "output_type": "execute_result"
    }
   ],
   "source": [
    "str_time = now.strftime(\"%H:%M\")\n",
    "str_time"
   ]
  },
  {
   "cell_type": "code",
   "execution_count": null,
   "metadata": {},
   "outputs": [],
   "source": [
    "tm_job1 = '07:00'\n",
    "tm_job2 = '12:00'\n",
    "tm_job3 = '17:00'\n",
    "\n",
    "if str_time == tm_job1:\n",
    "    print('job1')\n",
    "elif str_time == tm_job2:\n",
    "    print('job2')\n",
    "\n",
    "    "
   ]
  },
  {
   "cell_type": "code",
   "execution_count": null,
   "metadata": {},
   "outputs": [],
   "source": []
  }
 ],
 "metadata": {
  "kernelspec": {
   "display_name": "Python 3",
   "language": "python",
   "name": "python3"
  },
  "language_info": {
   "codemirror_mode": {
    "name": "ipython",
    "version": 3
   },
   "file_extension": ".py",
   "mimetype": "text/x-python",
   "name": "python",
   "nbconvert_exporter": "python",
   "pygments_lexer": "ipython3",
   "version": "3.7.0"
  }
 },
 "nbformat": 4,
 "nbformat_minor": 2
}
