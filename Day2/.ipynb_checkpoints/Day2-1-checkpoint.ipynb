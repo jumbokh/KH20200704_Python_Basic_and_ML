{
 "cells": [
  {
   "cell_type": "markdown",
   "metadata": {},
   "source": [
    "# Day2\n",
    "\n",
    "- 建置本地端的開發環境\n",
    "- Anaconda, VSCode, Jupyter-notebook\n",
    "\n",
    "- 基本語法練習2\n",
    "    - 空氣品質分析應用\n",
    "    \n",
    "- 空污通報應用: email\n",
    "\n",
    "- 空污通報應用2: line\n",
    "\n",
    "- 排程\n",
    "\n",
    "----"
   ]
  },
  {
   "cell_type": "markdown",
   "metadata": {},
   "source": [
    "# Day2-1 : 資料型態進階"
   ]
  },
  {
   "cell_type": "markdown",
   "metadata": {},
   "source": [
    "### JSON資料\n",
    "\n",
    "- https://zh.wikipedia.org/zh-tw/JSON\n",
    "\n",
    "```\n",
    "{\"time\":\"2020-07-01\", \"data\": [1, 2, 3, 4, 5]}\n",
    "```"
   ]
  },
  {
   "cell_type": "markdown",
   "metadata": {},
   "source": [
    "### 空氣品質應用"
   ]
  },
  {
   "cell_type": "code",
   "execution_count": 4,
   "metadata": {},
   "outputs": [],
   "source": [
    "import requests"
   ]
  },
  {
   "cell_type": "code",
   "execution_count": 5,
   "metadata": {},
   "outputs": [],
   "source": [
    "url = 'http://opendata.epa.gov.tw/ws/Data/AQI/?$format=json'"
   ]
  },
  {
   "cell_type": "code",
   "execution_count": 6,
   "metadata": {},
   "outputs": [],
   "source": [
    "r = requests.get(url)"
   ]
  },
  {
   "cell_type": "code",
   "execution_count": 7,
   "metadata": {},
   "outputs": [
    {
     "data": {
      "text/plain": [
       "<Response [200]>"
      ]
     },
     "execution_count": 7,
     "metadata": {},
     "output_type": "execute_result"
    }
   ],
   "source": [
    "r"
   ]
  },
  {
   "cell_type": "code",
   "execution_count": 8,
   "metadata": {},
   "outputs": [],
   "source": [
    "data = r.json()"
   ]
  },
  {
   "cell_type": "code",
   "execution_count": 9,
   "metadata": {},
   "outputs": [
    {
     "data": {
      "text/plain": [
       "{'SiteName': '臺南(北門)',\n",
       " 'County': '臺南市',\n",
       " 'AQI': '24',\n",
       " 'Pollutant': '',\n",
       " 'Status': '良好',\n",
       " 'SO2': '0.3',\n",
       " 'CO': '0.1',\n",
       " 'CO_8hr': '0.1',\n",
       " 'O3': '29',\n",
       " 'O3_8hr': '26',\n",
       " 'PM10': '13',\n",
       " 'PM2.5': 'ND',\n",
       " 'NO2': '1.5',\n",
       " 'NOx': '1.5',\n",
       " 'NO': '0',\n",
       " 'WindSpeed': '2.1',\n",
       " 'WindDirec': '250',\n",
       " 'PublishTime': '2020-07-03 19:00',\n",
       " 'PM2.5_AVG': '3',\n",
       " 'PM10_AVG': '13',\n",
       " 'SO2_AVG': '1',\n",
       " 'Longitude': '120.124444',\n",
       " 'Latitude': '23.264722',\n",
       " 'SiteId': '310'}"
      ]
     },
     "execution_count": 9,
     "metadata": {},
     "output_type": "execute_result"
    }
   ],
   "source": [
    "data[0]"
   ]
  },
  {
   "cell_type": "code",
   "execution_count": 10,
   "metadata": {},
   "outputs": [
    {
     "name": "stdout",
     "output_type": "stream",
     "text": [
      "高雄市 復興 2\n",
      "高雄市 小港 4\n",
      "高雄市 前鎮 2\n",
      "高雄市 前金 3\n",
      "高雄市 左營 ND\n",
      "高雄市 楠梓 4\n",
      "高雄市 林園 ND\n",
      "高雄市 大寮 4\n",
      "高雄市 鳳山 4\n",
      "高雄市 仁武 4\n",
      "高雄市 橋頭 2\n",
      "高雄市 美濃 5\n"
     ]
    }
   ],
   "source": [
    "for item in data:\n",
    "    if item['County']=='高雄市':\n",
    "        print(item['County'], item['SiteName'], item['PM2.5'])"
   ]
  },
  {
   "cell_type": "markdown",
   "metadata": {},
   "source": [
    "- 小試身手: 把AQI, 硫化物, 還有站點的GPS座標印出來"
   ]
  },
  {
   "cell_type": "code",
   "execution_count": null,
   "metadata": {},
   "outputs": [],
   "source": [
    "# 把程式填入這邊\n",
    "\n"
   ]
  },
  {
   "cell_type": "markdown",
   "metadata": {},
   "source": [
    "### 進一步找出 全台有超標的站\n",
    "- AQI 是否超標，請參照以下的資訊\n",
    "- ref: https://airtw.epa.gov.tw/CHT/Information/Standard/AirQualityIndicator.aspx"
   ]
  },
  {
   "cell_type": "code",
   "execution_count": null,
   "metadata": {},
   "outputs": [],
   "source": [
    "# 把程式填入這邊\n",
    "\n"
   ]
  },
  {
   "cell_type": "markdown",
   "metadata": {},
   "source": [
    "### 在地圖上把所有的站畫出來"
   ]
  },
  {
   "cell_type": "code",
   "execution_count": null,
   "metadata": {},
   "outputs": [],
   "source": [
    "# 把程式填入這邊\n",
    "\n"
   ]
  },
  {
   "cell_type": "markdown",
   "metadata": {},
   "source": [
    "### 畫出地圖，並且把超標的畫紅色、沒超標的畫綠色"
   ]
  },
  {
   "cell_type": "code",
   "execution_count": null,
   "metadata": {},
   "outputs": [],
   "source": [
    "# 把程式填入這邊\n",
    "\n"
   ]
  },
  {
   "cell_type": "markdown",
   "metadata": {},
   "source": [
    "### 把成果下載下來欣賞"
   ]
  },
  {
   "cell_type": "code",
   "execution_count": null,
   "metadata": {},
   "outputs": [],
   "source": [
    "# 寫下你的程式\n",
    "\n"
   ]
  },
  {
   "cell_type": "markdown",
   "metadata": {},
   "source": [
    "----\n",
    "## 你可以嘗試的資料來源\n",
    "- https://opendata.epa.gov.tw/"
   ]
  },
  {
   "cell_type": "markdown",
   "metadata": {},
   "source": [
    "----\n",
    "## [台灣十分鐘雨量分析](https://opendata.epa.gov.tw/Data/Contents/RainTenMin/)"
   ]
  },
  {
   "cell_type": "code",
   "execution_count": 29,
   "metadata": {},
   "outputs": [],
   "source": [
    "url = 'http://opendata.epa.gov.tw/webapi/Data/RainTenMin/?$orderby=PublishTime%20desc&$skip=0&$top=1000&format=json'"
   ]
  },
  {
   "cell_type": "code",
   "execution_count": 30,
   "metadata": {},
   "outputs": [],
   "source": [
    "r = requests.get(url)"
   ]
  },
  {
   "cell_type": "code",
   "execution_count": 31,
   "metadata": {},
   "outputs": [
    {
     "data": {
      "text/plain": [
       "<Response [200]>"
      ]
     },
     "execution_count": 31,
     "metadata": {},
     "output_type": "execute_result"
    }
   ],
   "source": [
    "r"
   ]
  },
  {
   "cell_type": "code",
   "execution_count": 33,
   "metadata": {},
   "outputs": [],
   "source": [
    "data = r.json()"
   ]
  },
  {
   "cell_type": "code",
   "execution_count": 34,
   "metadata": {},
   "outputs": [
    {
     "data": {
      "text/plain": [
       "{'SiteId': 'C1I230',\n",
       " 'SiteName': '九份二山',\n",
       " 'County': '南投縣',\n",
       " 'Township': '國姓鄉',\n",
       " 'TWD67Lon': '120.8369',\n",
       " 'TWD67Lat': '23.9637',\n",
       " 'Rainfall10min': '0',\n",
       " 'Rainfall1hr': '0',\n",
       " 'Rainfall3hr': '0.5',\n",
       " 'Rainfall6hr': '74.5',\n",
       " 'Rainfall12hr': '74.5',\n",
       " 'Rainfall24hr': '75',\n",
       " 'Now': '74.5',\n",
       " 'Unit': '局屬無人測站\\n',\n",
       " 'PublishTime': '2020-07-03 19:30:00'}"
      ]
     },
     "execution_count": 34,
     "metadata": {},
     "output_type": "execute_result"
    }
   ],
   "source": [
    "data[0]"
   ]
  },
  {
   "cell_type": "code",
   "execution_count": 35,
   "metadata": {},
   "outputs": [
    {
     "data": {
      "text/plain": [
       "1000"
      ]
     },
     "execution_count": 35,
     "metadata": {},
     "output_type": "execute_result"
    }
   ],
   "source": [
    "len(data)"
   ]
  },
  {
   "cell_type": "markdown",
   "metadata": {},
   "source": [
    "### 找出近24小時最大降雨地區"
   ]
  },
  {
   "cell_type": "code",
   "execution_count": null,
   "metadata": {},
   "outputs": [],
   "source": [
    "# 寫下你的程式\n",
    "\n"
   ]
  },
  {
   "cell_type": "markdown",
   "metadata": {},
   "source": [
    "### 在地圖上把降雨地區標示出來"
   ]
  },
  {
   "cell_type": "code",
   "execution_count": null,
   "metadata": {},
   "outputs": [],
   "source": [
    "# 寫下你的程式\n",
    "\n"
   ]
  },
  {
   "cell_type": "markdown",
   "metadata": {},
   "source": [
    "### 找出最大降雨都市"
   ]
  },
  {
   "cell_type": "code",
   "execution_count": null,
   "metadata": {},
   "outputs": [],
   "source": [
    "# 寫下你的程式\n",
    "\n"
   ]
  }
 ],
 "metadata": {
  "kernelspec": {
   "display_name": "Python 3",
   "language": "python",
   "name": "python3"
  },
  "language_info": {
   "codemirror_mode": {
    "name": "ipython",
    "version": 3
   },
   "file_extension": ".py",
   "mimetype": "text/x-python",
   "name": "python",
   "nbconvert_exporter": "python",
   "pygments_lexer": "ipython3",
   "version": "3.7.0"
  }
 },
 "nbformat": 4,
 "nbformat_minor": 2
}
