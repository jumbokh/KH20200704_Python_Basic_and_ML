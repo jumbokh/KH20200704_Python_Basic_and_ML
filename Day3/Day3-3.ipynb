{
 "cells": [
  {
   "cell_type": "markdown",
   "metadata": {},
   "source": [
    "# Day3-3 : 雲端應用\n",
    "\n",
    "上雲端進行排程，讓程式自動定時送出通知"
   ]
  },
  {
   "cell_type": "markdown",
   "metadata": {},
   "source": [
    "### 方案連結：\n",
    "- https://console.cloud.google.com/compute\n",
    "- https://cloud.google.com/run\n",
    "- https://cloud.google.com/scheduler\n",
    "- https://heroku.com/"
   ]
  },
  {
   "cell_type": "markdown",
   "metadata": {},
   "source": [
    "### 我們先以 google compute engine (GCE)為範例\n",
    "\n",
    "- GCE可以讓你在google 雲端建立一個 vm 實體，有Linux, windows等作業系統平台\n",
    "- 每一種機器類型有不一樣的收費方式\n",
    "- 每一個帳號一開始試用，可以得到 300USD的試用金\n",
    "- [連到這邊開始試用](https://console.cloud.google.com/compute)\n",
    "- 依 Day3-3.pptx 的步驟進行操作"
   ]
  },
  {
   "cell_type": "markdown",
   "metadata": {},
   "source": [
    "----\n",
    "### 建立好 vm 後\n",
    "\n",
    "- 我們先寫一段程式，測試功能，正常執行後，存成test.py檔\n",
    "- 上傳雲端平台\n",
    "- 設定cron進行系統排程"
   ]
  },
  {
   "cell_type": "code",
   "execution_count": null,
   "metadata": {},
   "outputs": [],
   "source": [
    "# 第一個line雲端排程用程式 --> 用vscode或是notepad++存成 `test.py`\n",
    "\n",
    "import requests\n",
    "\n",
    "token = 'bT0rhcsiaSaiK8ulEKj7Gi4ZtS1ht9Q9WKUoVtfvGFc'\n",
    "#token = 'xKkAS3hOquwluB4ZKfCfEAEui8HpGfwmurvm2tc8J31' #Python課程\n",
    "\n",
    "url = \"https://notify-api.line.me/api/notify\"\n",
    "headers = {\"Authorization\" : \"Bearer \"+ token}\n",
    "\n",
    "title = 'Malo雲端伺服器'\n",
    "message =  '[%s] 雲端排程發送訊息' %(title)\n",
    "payload = {\"message\" :  message}\n",
    "\n",
    "r = requests.post(url ,headers = headers ,params=payload)"
   ]
  },
  {
   "cell_type": "markdown",
   "metadata": {},
   "source": [
    "### 練習題: 把最近五天股價抓出來，排程送出\n",
    "\n",
    "- 提示：\n",
    "\n",
    "```\n",
    "from datetime import datetime\n",
    "from datetime import timedelta\n",
    "\n",
    "datetime.now()-timedelta(days=10) #可以得到10天前的時間\n",
    "```"
   ]
  },
  {
   "cell_type": "code",
   "execution_count": null,
   "metadata": {},
   "outputs": [],
   "source": [
    "# 請填入程式\n"
   ]
  },
  {
   "cell_type": "markdown",
   "metadata": {},
   "source": [
    "### 練習題: 利用排程，把近一個月股價抓出來，畫圖後由line送出"
   ]
  },
  {
   "cell_type": "markdown",
   "metadata": {},
   "source": [
    "#### 如果要在GCE的平台機器上畫圖，抓股價，要先安裝以下三個套件\n",
    "- pip3 install pandas\n",
    "- pip3 install pandas-datareader\n",
    "- pip3 install matplotlib"
   ]
  },
  {
   "cell_type": "code",
   "execution_count": null,
   "metadata": {},
   "outputs": [],
   "source": [
    "# 請存成 test_img.py 再上傳 GCE 進行排程\n",
    "# 請填入程式\n",
    "# 提示 plt.savefig('image.png')\n",
    "import matplotlib.pyplot as plt\n",
    "import requests\n",
    "import pandas_datareader.data as web\n",
    "from datetime import datetime\n",
    "\n",
    "df = web.DataReader(\"2330.tw\", 'yahoo', datetime(2020,1,1))\n",
    "stock_date = df.index.strftime(\"%Y-%m-%d\").tolist()\n",
    "stock_close = df['Close'].tolist()\n",
    "\n",
    "fig,ax = plt.subplots()\n",
    "\n",
    "plt.plot(stock_date[-10:], stock_close[-10:])\n",
    "plt.xlabel('date')\n",
    "plt.ylabel('close')\n",
    "ax.set_xticklabels(stock_date[-10:])\n",
    "fig.autofmt_xdate(rotation=30)\n",
    "plt.grid()\n",
    "\n",
    "img = 'image.png'\n",
    "plt.savefig(img)\n",
    "\n",
    "token = 'xKkAS3hOquwluB4ZKfCfEAEui8HpGfwmurvm2tc8J31' #Python課程\n",
    "url = \"https://notify-api.line.me/api/notify\"  # --> 不支援http, 只能用https\n",
    "headers = {\"Authorization\" : \"Bearer \"+ token}\n",
    "\n",
    "title = '2330近10日趨勢圖'\n",
    "message =  '[%s]' %(title)\n",
    "payload = {\"message\" :  message}\n",
    "files = {'imageFile': open(img, 'rb')}\n",
    "r = requests.post(url, headers = headers, params = payload, files = files)"
   ]
  },
  {
   "cell_type": "markdown",
   "metadata": {},
   "source": []
  }
 ],
 "metadata": {
  "kernelspec": {
   "display_name": "Python 3",
   "language": "python",
   "name": "python3"
  },
  "language_info": {
   "codemirror_mode": {
    "name": "ipython",
    "version": 3
   },
   "file_extension": ".py",
   "mimetype": "text/x-python",
   "name": "python",
   "nbconvert_exporter": "python",
   "pygments_lexer": "ipython3",
   "version": "3.7.0"
  }
 },
 "nbformat": 4,
 "nbformat_minor": 2
}
