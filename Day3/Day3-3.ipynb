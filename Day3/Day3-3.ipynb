{
 "cells": [
  {
   "cell_type": "markdown",
   "metadata": {},
   "source": [
    "# Day3-3 : 雲端應用\n",
    "\n",
    "上雲端進行排程，讓程式自動定時送出通知"
   ]
  },
  {
   "cell_type": "markdown",
   "metadata": {},
   "source": [
    "### 方案連結：\n",
    "- https://console.cloud.google.com/compute\n",
    "- https://cloud.google.com/run\n",
    "- https://cloud.google.com/scheduler\n",
    "- https://heroku.com/"
   ]
  },
  {
   "cell_type": "markdown",
   "metadata": {},
   "source": [
    "### 我們先以 google compute engine (GCE)為範例\n",
    "\n",
    "- GCE可以讓你在google 雲端建立一個 vm 實體，有Linux, windows等作業系統平台\n",
    "- 每一種機器類型有不一樣的收費方式\n",
    "- 每一個帳號一開始試用，可以得到 300USD的試用金\n",
    "- [連到這邊開始試用](https://console.cloud.google.com/compute)\n",
    "- 依 Day3-3.pptx 的步驟進行操作"
   ]
  },
  {
   "cell_type": "markdown",
   "metadata": {},
   "source": [
    "----\n",
    "### 建立好 vm 後\n",
    "\n",
    "- 我們先寫一段程式，測試功能，正常執行後，存成test.py檔\n",
    "- 上傳雲端平台\n",
    "- 設定cron進行系統排程"
   ]
  },
  {
   "cell_type": "code",
   "execution_count": null,
   "metadata": {},
   "outputs": [],
   "source": [
    "# 第一個line雲端排程用程式 --> 用vscode或是notepad++存成 `test.py`\n",
    "\n",
    "import requests\n",
    "\n",
    "token = 'bT0rhcsiaSaiK8ulEKj7Gi4ZtS1ht9Q9WKUoVtfvGFc'\n",
    "#token = 'xKkAS3hOquwluB4ZKfCfEAEui8HpGfwmurvm2tc8J31' #Python課程\n",
    "\n",
    "url = \"https://notify-api.line.me/api/notify\"\n",
    "headers = {\"Authorization\" : \"Bearer \"+ token}\n",
    "\n",
    "title = 'Malo雲端伺服器'\n",
    "message =  '[%s] 雲端排程發送訊息' %(title)\n",
    "payload = {\"message\" :  message}\n",
    "\n",
    "r = requests.post(url ,headers = headers ,params=payload)"
   ]
  },
  {
   "cell_type": "markdown",
   "metadata": {},
   "source": [
    "### 練習題: 把最近五天股價抓出來，排程送出\n",
    "\n",
    "- 提示：\n",
    "\n",
    "```\n",
    "from datetime import datetime\n",
    "from datetime import timedelta\n",
    "\n",
    "datetime.now()-timedelta(days=10) #可以得到10天前的時間\n",
    "```"
   ]
  },
  {
   "cell_type": "code",
   "execution_count": null,
   "metadata": {},
   "outputs": [],
   "source": [
    "# 請填入程式\n"
   ]
  },
  {
   "cell_type": "markdown",
   "metadata": {},
   "source": [
    "### 練習題: 利用排程，把近一個月股價抓出來，畫圖後由line送出"
   ]
  },
  {
   "cell_type": "code",
   "execution_count": null,
   "metadata": {},
   "outputs": [],
   "source": [
    "# 請填入程式\n"
   ]
  },
  {
   "cell_type": "code",
   "execution_count": null,
   "metadata": {},
   "outputs": [],
   "source": []
  },
  {
   "cell_type": "markdown",
   "metadata": {},
   "source": [
    "# pip3 install pandas\n",
    "# pip3 install pandas-datareader"
   ]
  },
  {
   "cell_type": "markdown",
   "metadata": {},
   "source": [
    "# pip3 install matplotlib"
   ]
  }
 ],
 "metadata": {
  "kernelspec": {
   "display_name": "Python 3",
   "language": "python",
   "name": "python3"
  },
  "language_info": {
   "codemirror_mode": {
    "name": "ipython",
    "version": 3
   },
   "file_extension": ".py",
   "mimetype": "text/x-python",
   "name": "python",
   "nbconvert_exporter": "python",
   "pygments_lexer": "ipython3",
   "version": "3.7.0"
  }
 },
 "nbformat": 4,
 "nbformat_minor": 2
}
