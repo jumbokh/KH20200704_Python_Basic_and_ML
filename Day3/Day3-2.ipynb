{
 "cells": [
  {
   "cell_type": "markdown",
   "metadata": {},
   "source": [
    "# Day3-2"
   ]
  },
  {
   "cell_type": "markdown",
   "metadata": {},
   "source": [
    "----\n",
    "## 應用練習: 高雄市空氣品質監測數據\n",
    "\n",
    "- https://data.gov.tw/dataset/104783"
   ]
  },
  {
   "cell_type": "markdown",
   "metadata": {},
   "source": [
    "- 資料資源欄位: \n",
    "    - Name(測站名稱)、Date(監測日期)、TSP(總懸浮微粒μg/m3)、PM10(懸浮微粒μg/m3)、Chloride(氯鹽μg/m3)、Nitrate(硝酸鹽μg/m3)、Sulfate(硫酸鹽μg/m3)、Lead(鉛μg/m3)、Dust(落塵量-公噸/平方公里/月)\n",
    "\n",
    "- 檔案格式: CSV\n",
    "\n",
    "- 編碼格式: UTF-8"
   ]
  },
  {
   "cell_type": "code",
   "execution_count": null,
   "metadata": {},
   "outputs": [],
   "source": [
    "import requests"
   ]
  },
  {
   "cell_type": "code",
   "execution_count": null,
   "metadata": {},
   "outputs": [],
   "source": [
    "url = 'https://data.kcg.gov.tw/dataset/e9aa2660-c4eb-46e1-a4fd-758f59c70e67/resource/ed5eacda-ee80-44b4-aa9a-88bbaf054512/download/2018humanstation.csv'"
   ]
  },
  {
   "cell_type": "markdown",
   "metadata": {},
   "source": [
    "- 請試著寫程式把此 csv 資料取回來"
   ]
  },
  {
   "cell_type": "code",
   "execution_count": null,
   "metadata": {},
   "outputs": [],
   "source": [
    "# 請填入程式\n"
   ]
  },
  {
   "cell_type": "code",
   "execution_count": null,
   "metadata": {},
   "outputs": [],
   "source": [
    "data_list[:3]"
   ]
  },
  {
   "cell_type": "markdown",
   "metadata": {},
   "source": [
    "### 把資料依各月份整理出來"
   ]
  },
  {
   "cell_type": "markdown",
   "metadata": {},
   "source": [
    "- 資料資源欄位: \n",
    "    - Name(測站名稱)\n",
    "    - Date(監測日期)\n",
    "    - TSP(總懸浮微粒μg/m3)\n",
    "    - PM10(懸浮微粒μg/m3)\n",
    "    - Chloride(氯鹽μg/m3)\n",
    "    - Nitrate(硝酸鹽μg/m3)\n",
    "    - Sulfate(硫酸鹽μg/m3)\n",
    "    - Lead(鉛μg/m3)\n",
    "    - Dust(落塵量-公噸/平方公里/月)"
   ]
  },
  {
   "cell_type": "markdown",
   "metadata": {},
   "source": [
    "- 先試著整理大社工業區的資料"
   ]
  },
  {
   "cell_type": "code",
   "execution_count": null,
   "metadata": {},
   "outputs": [],
   "source": [
    "data_list[1][0], data_list[1][2]"
   ]
  },
  {
   "cell_type": "code",
   "execution_count": null,
   "metadata": {},
   "outputs": [],
   "source": [
    "tsp_list = []\n",
    "for item in data_list[1:]:\n",
    "    name = item[0]\n",
    "    date = item[1]\n",
    "    tsp = item[2]\n",
    "    if name == '大社工業區':\n",
    "        tsp_list.append(int(tsp))\n"
   ]
  },
  {
   "cell_type": "code",
   "execution_count": null,
   "metadata": {},
   "outputs": [],
   "source": [
    "len(tsp_list), tsp_list"
   ]
  },
  {
   "cell_type": "code",
   "execution_count": null,
   "metadata": {},
   "outputs": [],
   "source": [
    "%matplotlib inline"
   ]
  },
  {
   "cell_type": "code",
   "execution_count": null,
   "metadata": {},
   "outputs": [],
   "source": [
    "import matplotlib.pyplot as plt\n",
    "plt.plot(range(1, 13), tsp_list)\n",
    "plt.xlabel('month')\n",
    "plt.ylabel('Dust')\n"
   ]
  },
  {
   "cell_type": "markdown",
   "metadata": {},
   "source": [
    "- 如果你需要格線"
   ]
  },
  {
   "cell_type": "code",
   "execution_count": null,
   "metadata": {},
   "outputs": [],
   "source": [
    "import matplotlib.pyplot as plt\n",
    "plt.plot(range(1, 13), tsp_list)\n",
    "plt.xlabel('month')\n",
    "plt.ylabel('Dust')\n",
    "plt.grid()"
   ]
  },
  {
   "cell_type": "markdown",
   "metadata": {},
   "source": [
    "### 換個顯示方式! 哇!!怎…麼…"
   ]
  },
  {
   "cell_type": "code",
   "execution_count": null,
   "metadata": {},
   "outputs": [],
   "source": [
    "import matplotlib.pyplot as plt\n",
    "plt.plot(range(1, 13), tsp_list)\n",
    "plt.xlabel('月份')\n",
    "plt.ylabel('總懸浮微粒μg/m^3')\n",
    "plt.grid()"
   ]
  },
  {
   "cell_type": "markdown",
   "metadata": {},
   "source": [
    "### 處理中文字的問題"
   ]
  },
  {
   "cell_type": "markdown",
   "metadata": {},
   "source": [
    "- ref: https://free.com.tw/google-noto-fonts/\n",
    "- google提供的免費字型: https://fonts.google.com/\n",
    "    * ref. from: [this](https://github.com/victorgau/python_investment/blob/master/3-1%20%E6%8A%93%E5%8F%96%E8%B2%A1%E5%8B%99%E5%A0%B1%E8%A1%A8.ipynb?fbclid=IwAR0D4vHlYGiPB02uu00-8x6A_HgqZO6V7u9XFhsSbS7EG0eGr9qATHoAcu4)"
   ]
  },
  {
   "cell_type": "code",
   "execution_count": null,
   "metadata": {},
   "outputs": [],
   "source": [
    "import matplotlib.pyplot as plt\n",
    "from matplotlib.font_manager import FontProperties\n",
    "font = FontProperties(fname=r\"NotoSansTC-Regular.otf\", size=14)\n",
    "\n",
    "months = list(range(1, 13))\n",
    "plt.plot(months, tsp_list)\n",
    "plt.title('懸浮微粒趨勢圖', fontproperties = font)\n",
    "plt.xlabel('月份', fontproperties = font)\n",
    "plt.ylabel('總懸浮微粒 μg/m^3', fontproperties = font)\n",
    "plt.grid()"
   ]
  },
  {
   "cell_type": "markdown",
   "metadata": {},
   "source": [
    "- 再整理一站出來，並把圖畫在一起"
   ]
  },
  {
   "cell_type": "code",
   "execution_count": null,
   "metadata": {},
   "outputs": [],
   "source": [
    "tsp_list2 = []\n",
    "for item in data_list[1:]:\n",
    "    name = item[0]\n",
    "    date = item[1]\n",
    "    tsp = item[2]\n",
    "    if name == '西子灣中山大學':\n",
    "        tsp_list2.append(int(tsp))\n",
    "tsp_list2"
   ]
  },
  {
   "cell_type": "code",
   "execution_count": null,
   "metadata": {},
   "outputs": [],
   "source": [
    "import matplotlib.pyplot as plt\n",
    "from matplotlib.font_manager import FontProperties\n",
    "font = FontProperties(fname=r\"NotoSansTC-Regular.otf\", size=14)\n",
    "\n",
    "months = list(range(1, 13))\n",
    "plt.plot(months, tsp_list, 'b-o')\n",
    "plt.plot(months, tsp_list2, 'r--.')\n",
    "plt.xlabel('月份', fontproperties = font)\n",
    "plt.ylabel('總懸浮微粒μg/m^3', fontproperties = font)\n",
    "plt.grid()"
   ]
  },
  {
   "cell_type": "markdown",
   "metadata": {},
   "source": [
    "- 進一步把圖例說明也加上去"
   ]
  },
  {
   "cell_type": "code",
   "execution_count": null,
   "metadata": {},
   "outputs": [],
   "source": [
    "plt.plot(months, tsp_list, 'b-o', label='大社工業區')\n",
    "plt.plot(months, tsp_list2, 'r--.', label='西子灣中山大學')\n",
    "plt.xlabel('月份', fontproperties = font)\n",
    "plt.ylabel('總懸浮微粒μg/m^3', fontproperties = font)\n",
    "plt.legend()"
   ]
  },
  {
   "cell_type": "code",
   "execution_count": null,
   "metadata": {},
   "outputs": [],
   "source": [
    "plt.plot(months, tsp_list, 'b-o', label=u'大社工業區')\n",
    "plt.plot(months, tsp_list2, 'r--.', label=u'西子灣中山大學')\n",
    "plt.xlabel('月份', fontproperties = font)\n",
    "plt.ylabel('總懸浮微粒μg/m^3', fontproperties = font)\n",
    "plt.legend(prop=font)\n"
   ]
  },
  {
   "cell_type": "markdown",
   "metadata": {},
   "source": [
    "### 整理全部的資料，並畫出來"
   ]
  },
  {
   "cell_type": "code",
   "execution_count": null,
   "metadata": {},
   "outputs": [],
   "source": [
    "month_list = {}\n",
    "for i in range(12):\n",
    "    month_list['2018年%d月' %(i+1)] = i+1\n",
    "    \n",
    "month_list"
   ]
  },
  {
   "cell_type": "code",
   "execution_count": null,
   "metadata": {},
   "outputs": [],
   "source": [
    "tsp_data = {}\n",
    "for item in data_list[1:]:\n",
    "    name = item[0]\n",
    "    tsp_data[name] = [None]*12\n"
   ]
  },
  {
   "cell_type": "code",
   "execution_count": null,
   "metadata": {},
   "outputs": [],
   "source": [
    "for item in data_list[1:]:\n",
    "    try:\n",
    "        name = item[0]\n",
    "        date = item[1]\n",
    "        tsp = item[2]\n",
    "        tsp_data[name][month_list[date]-1] = int(tsp)\n",
    "    except Exception as e:\n",
    "        print(name, date, tsp, str(e))\n",
    "        print(e.args)    \n"
   ]
  },
  {
   "cell_type": "code",
   "execution_count": null,
   "metadata": {},
   "outputs": [],
   "source": [
    "tsp_data"
   ]
  },
  {
   "cell_type": "markdown",
   "metadata": {},
   "source": [
    "### 練習題：請畫出多筆資料的趨勢圖\n",
    "- plt.subplots(figsize=(12,8)): 可以把圖變大\n",
    "- fig, ax1 = plt.subplots(figsize=(12,8), dpi=120)\n",
    "- plt.legend(prop=font, bbox_to_anchor=(1.0, 1.0)) 可以強制指定圖例的位置"
   ]
  },
  {
   "cell_type": "code",
   "execution_count": null,
   "metadata": {},
   "outputs": [],
   "source": [
    "# 請填入程式\n"
   ]
  },
  {
   "cell_type": "markdown",
   "metadata": {},
   "source": [
    "### 為何前面要使用 None 來填充沒資料的欄位"
   ]
  },
  {
   "cell_type": "code",
   "execution_count": null,
   "metadata": {},
   "outputs": [],
   "source": [
    "fig, ax1 = plt.subplots(figsize=(12,8))\n",
    "\n",
    "plt.plot(months, tsp_data['大寮區公所'], '-o', label='大寮區公所')\n",
    "plt.plot(months, tsp_data['大樹監測站'], '-o', label='大樹監測站')\n",
    "\n",
    "plt.xlabel('月份', fontproperties = font)\n",
    "plt.ylabel('總懸浮微粒μg/m^3', fontproperties = font)\n",
    "plt.legend(prop=font, bbox_to_anchor=(1.0, 1.0))\n"
   ]
  },
  {
   "cell_type": "code",
   "execution_count": null,
   "metadata": {},
   "outputs": [],
   "source": []
  }
 ],
 "metadata": {
  "kernelspec": {
   "display_name": "Python 3",
   "language": "python",
   "name": "python3"
  },
  "language_info": {
   "codemirror_mode": {
    "name": "ipython",
    "version": 3
   },
   "file_extension": ".py",
   "mimetype": "text/x-python",
   "name": "python",
   "nbconvert_exporter": "python",
   "pygments_lexer": "ipython3",
   "version": "3.7.0"
  }
 },
 "nbformat": 4,
 "nbformat_minor": 2
}
